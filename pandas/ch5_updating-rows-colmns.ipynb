{
 "cells": [
  {
   "cell_type": "markdown",
   "id": "2232a618-64ec-4bf8-8aac-e5cc4d9cf33a",
   "metadata": {},
   "source": [
    "Updating rows and columns: modifying data within our dataframes"
   ]
  },
  {
   "cell_type": "code",
   "execution_count": 54,
   "id": "5fa1f073-68bb-46be-8f87-9f42c4418e4b",
   "metadata": {},
   "outputs": [],
   "source": [
    "people = {\n",
    "    \"first\": ['vivek', 'shashwat', 'sumit'],\n",
    "    \"last\": ['vishal', 'verma', 'narayan'],\n",
    "    \"email\": ['vishalviVek488@gmail.com', 'shashwatVerma@gmail.com', 'Sumit@mgmail.com']\n",
    "}"
   ]
  },
  {
   "cell_type": "code",
   "execution_count": 2,
   "id": "45c6aca0-a3b8-4b6e-8aa0-90ce87f0e9b8",
   "metadata": {},
   "outputs": [],
   "source": [
    "import pandas as pd\n"
   ]
  },
  {
   "cell_type": "code",
   "execution_count": 55,
   "id": "551e465b-7f41-4b93-8b3b-f8c7bfc566b3",
   "metadata": {},
   "outputs": [],
   "source": [
    "df = pd.DataFrame(people)"
   ]
  },
  {
   "cell_type": "code",
   "execution_count": 56,
   "id": "c3610cf5-23c9-4c23-b97a-088755a48937",
   "metadata": {},
   "outputs": [
    {
     "data": {
      "text/html": [
       "<div>\n",
       "<style scoped>\n",
       "    .dataframe tbody tr th:only-of-type {\n",
       "        vertical-align: middle;\n",
       "    }\n",
       "\n",
       "    .dataframe tbody tr th {\n",
       "        vertical-align: top;\n",
       "    }\n",
       "\n",
       "    .dataframe thead th {\n",
       "        text-align: right;\n",
       "    }\n",
       "</style>\n",
       "<table border=\"1\" class=\"dataframe\">\n",
       "  <thead>\n",
       "    <tr style=\"text-align: right;\">\n",
       "      <th></th>\n",
       "      <th>first</th>\n",
       "      <th>last</th>\n",
       "      <th>email</th>\n",
       "    </tr>\n",
       "  </thead>\n",
       "  <tbody>\n",
       "    <tr>\n",
       "      <th>0</th>\n",
       "      <td>vivek</td>\n",
       "      <td>vishal</td>\n",
       "      <td>vishalviVek488@gmail.com</td>\n",
       "    </tr>\n",
       "    <tr>\n",
       "      <th>1</th>\n",
       "      <td>shashwat</td>\n",
       "      <td>verma</td>\n",
       "      <td>shashwatVerma@gmail.com</td>\n",
       "    </tr>\n",
       "    <tr>\n",
       "      <th>2</th>\n",
       "      <td>sumit</td>\n",
       "      <td>narayan</td>\n",
       "      <td>Sumit@mgmail.com</td>\n",
       "    </tr>\n",
       "  </tbody>\n",
       "</table>\n",
       "</div>"
      ],
      "text/plain": [
       "      first     last                     email\n",
       "0     vivek   vishal  vishalviVek488@gmail.com\n",
       "1  shashwat    verma   shashwatVerma@gmail.com\n",
       "2     sumit  narayan          Sumit@mgmail.com"
      ]
     },
     "execution_count": 56,
     "metadata": {},
     "output_type": "execute_result"
    }
   ],
   "source": [
    "df"
   ]
  },
  {
   "cell_type": "code",
   "execution_count": 5,
   "id": "9cc3873a-3c7a-4eb1-961c-af96e6b1f86c",
   "metadata": {},
   "outputs": [
    {
     "data": {
      "text/plain": [
       "Index(['first', 'last', 'email'], dtype='object')"
      ]
     },
     "execution_count": 5,
     "metadata": {},
     "output_type": "execute_result"
    }
   ],
   "source": [
    "df.columns"
   ]
  },
  {
   "cell_type": "markdown",
   "id": "576ce4d9-b836-4cd4-9ef3-74f59c0c0044",
   "metadata": {},
   "source": [
    "### Updating columns"
   ]
  },
  {
   "cell_type": "code",
   "execution_count": 6,
   "id": "6d22db7a-ea90-469e-a201-ca8b816e96af",
   "metadata": {},
   "outputs": [],
   "source": [
    "df.columns = ['first name', 'last name', 'email']"
   ]
  },
  {
   "cell_type": "code",
   "execution_count": 7,
   "id": "5304f591-2d5d-497c-83ed-036ae30dc928",
   "metadata": {},
   "outputs": [
    {
     "data": {
      "text/html": [
       "<div>\n",
       "<style scoped>\n",
       "    .dataframe tbody tr th:only-of-type {\n",
       "        vertical-align: middle;\n",
       "    }\n",
       "\n",
       "    .dataframe tbody tr th {\n",
       "        vertical-align: top;\n",
       "    }\n",
       "\n",
       "    .dataframe thead th {\n",
       "        text-align: right;\n",
       "    }\n",
       "</style>\n",
       "<table border=\"1\" class=\"dataframe\">\n",
       "  <thead>\n",
       "    <tr style=\"text-align: right;\">\n",
       "      <th></th>\n",
       "      <th>first name</th>\n",
       "      <th>last name</th>\n",
       "      <th>email</th>\n",
       "    </tr>\n",
       "  </thead>\n",
       "  <tbody>\n",
       "    <tr>\n",
       "      <th>0</th>\n",
       "      <td>vivek</td>\n",
       "      <td>vishal</td>\n",
       "      <td>vishalvivek488@gmail.com</td>\n",
       "    </tr>\n",
       "    <tr>\n",
       "      <th>1</th>\n",
       "      <td>shashwat</td>\n",
       "      <td>verma</td>\n",
       "      <td>shashwatverma@gmail.com</td>\n",
       "    </tr>\n",
       "    <tr>\n",
       "      <th>2</th>\n",
       "      <td>sumit</td>\n",
       "      <td>narayan</td>\n",
       "      <td>sumit@mgmail.com</td>\n",
       "    </tr>\n",
       "  </tbody>\n",
       "</table>\n",
       "</div>"
      ],
      "text/plain": [
       "  first name last name                     email\n",
       "0      vivek    vishal  vishalvivek488@gmail.com\n",
       "1   shashwat     verma   shashwatverma@gmail.com\n",
       "2      sumit   narayan          sumit@mgmail.com"
      ]
     },
     "execution_count": 7,
     "metadata": {},
     "output_type": "execute_result"
    }
   ],
   "source": [
    "df"
   ]
  },
  {
   "cell_type": "code",
   "execution_count": 8,
   "id": "36e6cb68-1422-4a99-8812-2c9851154f3a",
   "metadata": {},
   "outputs": [],
   "source": [
    "df.columns = [x.upper() for x in df.columns]"
   ]
  },
  {
   "cell_type": "code",
   "execution_count": 9,
   "id": "2725d3fa-7b15-48da-8feb-dee8b8e52f66",
   "metadata": {},
   "outputs": [
    {
     "data": {
      "text/html": [
       "<div>\n",
       "<style scoped>\n",
       "    .dataframe tbody tr th:only-of-type {\n",
       "        vertical-align: middle;\n",
       "    }\n",
       "\n",
       "    .dataframe tbody tr th {\n",
       "        vertical-align: top;\n",
       "    }\n",
       "\n",
       "    .dataframe thead th {\n",
       "        text-align: right;\n",
       "    }\n",
       "</style>\n",
       "<table border=\"1\" class=\"dataframe\">\n",
       "  <thead>\n",
       "    <tr style=\"text-align: right;\">\n",
       "      <th></th>\n",
       "      <th>FIRST NAME</th>\n",
       "      <th>LAST NAME</th>\n",
       "      <th>EMAIL</th>\n",
       "    </tr>\n",
       "  </thead>\n",
       "  <tbody>\n",
       "    <tr>\n",
       "      <th>0</th>\n",
       "      <td>vivek</td>\n",
       "      <td>vishal</td>\n",
       "      <td>vishalvivek488@gmail.com</td>\n",
       "    </tr>\n",
       "    <tr>\n",
       "      <th>1</th>\n",
       "      <td>shashwat</td>\n",
       "      <td>verma</td>\n",
       "      <td>shashwatverma@gmail.com</td>\n",
       "    </tr>\n",
       "    <tr>\n",
       "      <th>2</th>\n",
       "      <td>sumit</td>\n",
       "      <td>narayan</td>\n",
       "      <td>sumit@mgmail.com</td>\n",
       "    </tr>\n",
       "  </tbody>\n",
       "</table>\n",
       "</div>"
      ],
      "text/plain": [
       "  FIRST NAME LAST NAME                     EMAIL\n",
       "0      vivek    vishal  vishalvivek488@gmail.com\n",
       "1   shashwat     verma   shashwatverma@gmail.com\n",
       "2      sumit   narayan          sumit@mgmail.com"
      ]
     },
     "execution_count": 9,
     "metadata": {},
     "output_type": "execute_result"
    }
   ],
   "source": [
    "df"
   ]
  },
  {
   "cell_type": "code",
   "execution_count": 10,
   "id": "833824bf-4411-4ecd-bfac-c27e12aef99c",
   "metadata": {},
   "outputs": [],
   "source": [
    "df.columns = df.columns.str.replace(' ', '_')"
   ]
  },
  {
   "cell_type": "code",
   "execution_count": 11,
   "id": "5f1395d2-0257-4757-8331-0fcc7e3f357d",
   "metadata": {},
   "outputs": [
    {
     "data": {
      "text/html": [
       "<div>\n",
       "<style scoped>\n",
       "    .dataframe tbody tr th:only-of-type {\n",
       "        vertical-align: middle;\n",
       "    }\n",
       "\n",
       "    .dataframe tbody tr th {\n",
       "        vertical-align: top;\n",
       "    }\n",
       "\n",
       "    .dataframe thead th {\n",
       "        text-align: right;\n",
       "    }\n",
       "</style>\n",
       "<table border=\"1\" class=\"dataframe\">\n",
       "  <thead>\n",
       "    <tr style=\"text-align: right;\">\n",
       "      <th></th>\n",
       "      <th>FIRST_NAME</th>\n",
       "      <th>LAST_NAME</th>\n",
       "      <th>EMAIL</th>\n",
       "    </tr>\n",
       "  </thead>\n",
       "  <tbody>\n",
       "    <tr>\n",
       "      <th>0</th>\n",
       "      <td>vivek</td>\n",
       "      <td>vishal</td>\n",
       "      <td>vishalvivek488@gmail.com</td>\n",
       "    </tr>\n",
       "    <tr>\n",
       "      <th>1</th>\n",
       "      <td>shashwat</td>\n",
       "      <td>verma</td>\n",
       "      <td>shashwatverma@gmail.com</td>\n",
       "    </tr>\n",
       "    <tr>\n",
       "      <th>2</th>\n",
       "      <td>sumit</td>\n",
       "      <td>narayan</td>\n",
       "      <td>sumit@mgmail.com</td>\n",
       "    </tr>\n",
       "  </tbody>\n",
       "</table>\n",
       "</div>"
      ],
      "text/plain": [
       "  FIRST_NAME LAST_NAME                     EMAIL\n",
       "0      vivek    vishal  vishalvivek488@gmail.com\n",
       "1   shashwat     verma   shashwatverma@gmail.com\n",
       "2      sumit   narayan          sumit@mgmail.com"
      ]
     },
     "execution_count": 11,
     "metadata": {},
     "output_type": "execute_result"
    }
   ],
   "source": [
    "df"
   ]
  },
  {
   "cell_type": "code",
   "execution_count": 12,
   "id": "9ee4fc4b-51ec-45e7-9135-a120416e6ed3",
   "metadata": {},
   "outputs": [],
   "source": [
    "df.columns = [x.lower() for x in df.columns]"
   ]
  },
  {
   "cell_type": "code",
   "execution_count": 13,
   "id": "959c47c4-7ac7-40f7-baac-52aa9cf7aa34",
   "metadata": {},
   "outputs": [
    {
     "data": {
      "text/html": [
       "<div>\n",
       "<style scoped>\n",
       "    .dataframe tbody tr th:only-of-type {\n",
       "        vertical-align: middle;\n",
       "    }\n",
       "\n",
       "    .dataframe tbody tr th {\n",
       "        vertical-align: top;\n",
       "    }\n",
       "\n",
       "    .dataframe thead th {\n",
       "        text-align: right;\n",
       "    }\n",
       "</style>\n",
       "<table border=\"1\" class=\"dataframe\">\n",
       "  <thead>\n",
       "    <tr style=\"text-align: right;\">\n",
       "      <th></th>\n",
       "      <th>first_name</th>\n",
       "      <th>last_name</th>\n",
       "      <th>email</th>\n",
       "    </tr>\n",
       "  </thead>\n",
       "  <tbody>\n",
       "    <tr>\n",
       "      <th>0</th>\n",
       "      <td>vivek</td>\n",
       "      <td>vishal</td>\n",
       "      <td>vishalvivek488@gmail.com</td>\n",
       "    </tr>\n",
       "    <tr>\n",
       "      <th>1</th>\n",
       "      <td>shashwat</td>\n",
       "      <td>verma</td>\n",
       "      <td>shashwatverma@gmail.com</td>\n",
       "    </tr>\n",
       "    <tr>\n",
       "      <th>2</th>\n",
       "      <td>sumit</td>\n",
       "      <td>narayan</td>\n",
       "      <td>sumit@mgmail.com</td>\n",
       "    </tr>\n",
       "  </tbody>\n",
       "</table>\n",
       "</div>"
      ],
      "text/plain": [
       "  first_name last_name                     email\n",
       "0      vivek    vishal  vishalvivek488@gmail.com\n",
       "1   shashwat     verma   shashwatverma@gmail.com\n",
       "2      sumit   narayan          sumit@mgmail.com"
      ]
     },
     "execution_count": 13,
     "metadata": {},
     "output_type": "execute_result"
    }
   ],
   "source": [
    "df"
   ]
  },
  {
   "cell_type": "code",
   "execution_count": 14,
   "id": "9e9032b7-856e-491d-a92d-b90e64cd06fd",
   "metadata": {},
   "outputs": [
    {
     "data": {
      "text/html": [
       "<div>\n",
       "<style scoped>\n",
       "    .dataframe tbody tr th:only-of-type {\n",
       "        vertical-align: middle;\n",
       "    }\n",
       "\n",
       "    .dataframe tbody tr th {\n",
       "        vertical-align: top;\n",
       "    }\n",
       "\n",
       "    .dataframe thead th {\n",
       "        text-align: right;\n",
       "    }\n",
       "</style>\n",
       "<table border=\"1\" class=\"dataframe\">\n",
       "  <thead>\n",
       "    <tr style=\"text-align: right;\">\n",
       "      <th></th>\n",
       "      <th>first</th>\n",
       "      <th>last</th>\n",
       "      <th>email</th>\n",
       "    </tr>\n",
       "  </thead>\n",
       "  <tbody>\n",
       "    <tr>\n",
       "      <th>0</th>\n",
       "      <td>vivek</td>\n",
       "      <td>vishal</td>\n",
       "      <td>vishalvivek488@gmail.com</td>\n",
       "    </tr>\n",
       "    <tr>\n",
       "      <th>1</th>\n",
       "      <td>shashwat</td>\n",
       "      <td>verma</td>\n",
       "      <td>shashwatverma@gmail.com</td>\n",
       "    </tr>\n",
       "    <tr>\n",
       "      <th>2</th>\n",
       "      <td>sumit</td>\n",
       "      <td>narayan</td>\n",
       "      <td>sumit@mgmail.com</td>\n",
       "    </tr>\n",
       "  </tbody>\n",
       "</table>\n",
       "</div>"
      ],
      "text/plain": [
       "      first     last                     email\n",
       "0     vivek   vishal  vishalvivek488@gmail.com\n",
       "1  shashwat    verma   shashwatverma@gmail.com\n",
       "2     sumit  narayan          sumit@mgmail.com"
      ]
     },
     "execution_count": 14,
     "metadata": {},
     "output_type": "execute_result"
    }
   ],
   "source": [
    "df.rename(columns={'first_name':'first', 'last_name': 'last'})"
   ]
  },
  {
   "cell_type": "code",
   "execution_count": 15,
   "id": "c81b12b9-5214-4522-8ef6-b9a9fc801983",
   "metadata": {},
   "outputs": [
    {
     "data": {
      "text/html": [
       "<div>\n",
       "<style scoped>\n",
       "    .dataframe tbody tr th:only-of-type {\n",
       "        vertical-align: middle;\n",
       "    }\n",
       "\n",
       "    .dataframe tbody tr th {\n",
       "        vertical-align: top;\n",
       "    }\n",
       "\n",
       "    .dataframe thead th {\n",
       "        text-align: right;\n",
       "    }\n",
       "</style>\n",
       "<table border=\"1\" class=\"dataframe\">\n",
       "  <thead>\n",
       "    <tr style=\"text-align: right;\">\n",
       "      <th></th>\n",
       "      <th>first_name</th>\n",
       "      <th>last_name</th>\n",
       "      <th>email</th>\n",
       "    </tr>\n",
       "  </thead>\n",
       "  <tbody>\n",
       "    <tr>\n",
       "      <th>0</th>\n",
       "      <td>vivek</td>\n",
       "      <td>vishal</td>\n",
       "      <td>vishalvivek488@gmail.com</td>\n",
       "    </tr>\n",
       "    <tr>\n",
       "      <th>1</th>\n",
       "      <td>shashwat</td>\n",
       "      <td>verma</td>\n",
       "      <td>shashwatverma@gmail.com</td>\n",
       "    </tr>\n",
       "    <tr>\n",
       "      <th>2</th>\n",
       "      <td>sumit</td>\n",
       "      <td>narayan</td>\n",
       "      <td>sumit@mgmail.com</td>\n",
       "    </tr>\n",
       "  </tbody>\n",
       "</table>\n",
       "</div>"
      ],
      "text/plain": [
       "  first_name last_name                     email\n",
       "0      vivek    vishal  vishalvivek488@gmail.com\n",
       "1   shashwat     verma   shashwatverma@gmail.com\n",
       "2      sumit   narayan          sumit@mgmail.com"
      ]
     },
     "execution_count": 15,
     "metadata": {},
     "output_type": "execute_result"
    }
   ],
   "source": [
    "df\n"
   ]
  },
  {
   "cell_type": "markdown",
   "id": "8f6eee1d-560f-4c82-8245-05382c76ec04",
   "metadata": {},
   "source": [
    "to persistent changes, use \"inplace=True\""
   ]
  },
  {
   "cell_type": "code",
   "execution_count": 25,
   "id": "29265b72-7a57-4648-8269-c0f0595628d5",
   "metadata": {},
   "outputs": [],
   "source": [
    "df.rename(columns={'first_name':'first', 'last_name':'last'}, inplace=True)"
   ]
  },
  {
   "cell_type": "code",
   "execution_count": 26,
   "id": "ce0d0a14-c92a-4c0f-86ed-34bb3d1a6183",
   "metadata": {},
   "outputs": [
    {
     "data": {
      "text/html": [
       "<div>\n",
       "<style scoped>\n",
       "    .dataframe tbody tr th:only-of-type {\n",
       "        vertical-align: middle;\n",
       "    }\n",
       "\n",
       "    .dataframe tbody tr th {\n",
       "        vertical-align: top;\n",
       "    }\n",
       "\n",
       "    .dataframe thead th {\n",
       "        text-align: right;\n",
       "    }\n",
       "</style>\n",
       "<table border=\"1\" class=\"dataframe\">\n",
       "  <thead>\n",
       "    <tr style=\"text-align: right;\">\n",
       "      <th></th>\n",
       "      <th>first</th>\n",
       "      <th>last</th>\n",
       "      <th>email</th>\n",
       "    </tr>\n",
       "  </thead>\n",
       "  <tbody>\n",
       "    <tr>\n",
       "      <th>0</th>\n",
       "      <td>vivek</td>\n",
       "      <td>vishal</td>\n",
       "      <td>vishalvivek488@gmail.com</td>\n",
       "    </tr>\n",
       "    <tr>\n",
       "      <th>1</th>\n",
       "      <td>shashwat</td>\n",
       "      <td>verma</td>\n",
       "      <td>shashwatverma@gmail.com</td>\n",
       "    </tr>\n",
       "    <tr>\n",
       "      <th>2</th>\n",
       "      <td>sumit</td>\n",
       "      <td>narayan</td>\n",
       "      <td>sumit@mgmail.com</td>\n",
       "    </tr>\n",
       "  </tbody>\n",
       "</table>\n",
       "</div>"
      ],
      "text/plain": [
       "      first     last                     email\n",
       "0     vivek   vishal  vishalvivek488@gmail.com\n",
       "1  shashwat    verma   shashwatverma@gmail.com\n",
       "2     sumit  narayan          sumit@mgmail.com"
      ]
     },
     "execution_count": 26,
     "metadata": {},
     "output_type": "execute_result"
    }
   ],
   "source": [
    "df"
   ]
  },
  {
   "cell_type": "markdown",
   "id": "3b5c6db4-be4b-4eea-8263-46690dd27477",
   "metadata": {},
   "source": [
    "### Updating rows"
   ]
  },
  {
   "cell_type": "code",
   "execution_count": 27,
   "id": "58df009c-8643-4298-a52a-24b408a35f0e",
   "metadata": {},
   "outputs": [
    {
     "data": {
      "text/plain": [
       "first               sumit\n",
       "last              narayan\n",
       "email    sumit@mgmail.com\n",
       "Name: 2, dtype: object"
      ]
     },
     "execution_count": 27,
     "metadata": {},
     "output_type": "execute_result"
    }
   ],
   "source": [
    "df.loc[2]"
   ]
  },
  {
   "cell_type": "markdown",
   "id": "f4f34a6f-ad72-4af5-b87d-43f5f2ab0cea",
   "metadata": {},
   "source": [
    "let's replace a couple of values"
   ]
  },
  {
   "cell_type": "code",
   "execution_count": 31,
   "id": "9dfe7fc3-1c11-48da-af2b-43f818153ece",
   "metadata": {},
   "outputs": [],
   "source": [
    "df.loc[2] = ['Dhirendra', 'Singh', 'dhirendra.singh@gmail.com'] # have to specify all the col"
   ]
  },
  {
   "cell_type": "code",
   "execution_count": 32,
   "id": "a452dc00-036f-45ea-ad04-7ee4d5c44aa1",
   "metadata": {},
   "outputs": [
    {
     "data": {
      "text/html": [
       "<div>\n",
       "<style scoped>\n",
       "    .dataframe tbody tr th:only-of-type {\n",
       "        vertical-align: middle;\n",
       "    }\n",
       "\n",
       "    .dataframe tbody tr th {\n",
       "        vertical-align: top;\n",
       "    }\n",
       "\n",
       "    .dataframe thead th {\n",
       "        text-align: right;\n",
       "    }\n",
       "</style>\n",
       "<table border=\"1\" class=\"dataframe\">\n",
       "  <thead>\n",
       "    <tr style=\"text-align: right;\">\n",
       "      <th></th>\n",
       "      <th>first</th>\n",
       "      <th>last</th>\n",
       "      <th>email</th>\n",
       "    </tr>\n",
       "  </thead>\n",
       "  <tbody>\n",
       "    <tr>\n",
       "      <th>0</th>\n",
       "      <td>vivek</td>\n",
       "      <td>vishal</td>\n",
       "      <td>vishalvivek488@gmail.com</td>\n",
       "    </tr>\n",
       "    <tr>\n",
       "      <th>1</th>\n",
       "      <td>shashwat</td>\n",
       "      <td>verma</td>\n",
       "      <td>shashwatverma@gmail.com</td>\n",
       "    </tr>\n",
       "    <tr>\n",
       "      <th>2</th>\n",
       "      <td>Dhirendra</td>\n",
       "      <td>Singh</td>\n",
       "      <td>dhirendra.singh@gmail.com</td>\n",
       "    </tr>\n",
       "  </tbody>\n",
       "</table>\n",
       "</div>"
      ],
      "text/plain": [
       "       first    last                      email\n",
       "0      vivek  vishal   vishalvivek488@gmail.com\n",
       "1   shashwat   verma    shashwatverma@gmail.com\n",
       "2  Dhirendra   Singh  dhirendra.singh@gmail.com"
      ]
     },
     "execution_count": 32,
     "metadata": {},
     "output_type": "execute_result"
    }
   ],
   "source": [
    "df"
   ]
  },
  {
   "cell_type": "code",
   "execution_count": 33,
   "id": "45cae1ce-6608-4320-ab57-8e875f2818d6",
   "metadata": {},
   "outputs": [],
   "source": [
    "# just changing email for 3rd person\n",
    "df.loc[2, 'email'] = 'Dhiru@gmail.com'"
   ]
  },
  {
   "cell_type": "code",
   "execution_count": 34,
   "id": "70ee242c-f648-4e0c-8e8f-d8f9f3e4516f",
   "metadata": {},
   "outputs": [
    {
     "data": {
      "text/html": [
       "<div>\n",
       "<style scoped>\n",
       "    .dataframe tbody tr th:only-of-type {\n",
       "        vertical-align: middle;\n",
       "    }\n",
       "\n",
       "    .dataframe tbody tr th {\n",
       "        vertical-align: top;\n",
       "    }\n",
       "\n",
       "    .dataframe thead th {\n",
       "        text-align: right;\n",
       "    }\n",
       "</style>\n",
       "<table border=\"1\" class=\"dataframe\">\n",
       "  <thead>\n",
       "    <tr style=\"text-align: right;\">\n",
       "      <th></th>\n",
       "      <th>first</th>\n",
       "      <th>last</th>\n",
       "      <th>email</th>\n",
       "    </tr>\n",
       "  </thead>\n",
       "  <tbody>\n",
       "    <tr>\n",
       "      <th>0</th>\n",
       "      <td>vivek</td>\n",
       "      <td>vishal</td>\n",
       "      <td>vishalvivek488@gmail.com</td>\n",
       "    </tr>\n",
       "    <tr>\n",
       "      <th>1</th>\n",
       "      <td>shashwat</td>\n",
       "      <td>verma</td>\n",
       "      <td>shashwatverma@gmail.com</td>\n",
       "    </tr>\n",
       "    <tr>\n",
       "      <th>2</th>\n",
       "      <td>Dhirendra</td>\n",
       "      <td>Singh</td>\n",
       "      <td>Dhiru@gmail.com</td>\n",
       "    </tr>\n",
       "  </tbody>\n",
       "</table>\n",
       "</div>"
      ],
      "text/plain": [
       "       first    last                     email\n",
       "0      vivek  vishal  vishalvivek488@gmail.com\n",
       "1   shashwat   verma   shashwatverma@gmail.com\n",
       "2  Dhirendra   Singh           Dhiru@gmail.com"
      ]
     },
     "execution_count": 34,
     "metadata": {},
     "output_type": "execute_result"
    }
   ],
   "source": [
    "df"
   ]
  },
  {
   "cell_type": "code",
   "execution_count": 35,
   "id": "e546e939-dca3-4d0a-bbb6-0e9bffd8f38a",
   "metadata": {},
   "outputs": [],
   "source": [
    "# replacing first name and email\n",
    "df.loc[2, ['first', 'email']] = ['Dhiru', 'dhirenndra.singh@gmail.com']"
   ]
  },
  {
   "cell_type": "code",
   "execution_count": 36,
   "id": "4ce41141-1309-425f-aff0-21a7e767f4da",
   "metadata": {},
   "outputs": [
    {
     "data": {
      "text/html": [
       "<div>\n",
       "<style scoped>\n",
       "    .dataframe tbody tr th:only-of-type {\n",
       "        vertical-align: middle;\n",
       "    }\n",
       "\n",
       "    .dataframe tbody tr th {\n",
       "        vertical-align: top;\n",
       "    }\n",
       "\n",
       "    .dataframe thead th {\n",
       "        text-align: right;\n",
       "    }\n",
       "</style>\n",
       "<table border=\"1\" class=\"dataframe\">\n",
       "  <thead>\n",
       "    <tr style=\"text-align: right;\">\n",
       "      <th></th>\n",
       "      <th>first</th>\n",
       "      <th>last</th>\n",
       "      <th>email</th>\n",
       "    </tr>\n",
       "  </thead>\n",
       "  <tbody>\n",
       "    <tr>\n",
       "      <th>0</th>\n",
       "      <td>vivek</td>\n",
       "      <td>vishal</td>\n",
       "      <td>vishalvivek488@gmail.com</td>\n",
       "    </tr>\n",
       "    <tr>\n",
       "      <th>1</th>\n",
       "      <td>shashwat</td>\n",
       "      <td>verma</td>\n",
       "      <td>shashwatverma@gmail.com</td>\n",
       "    </tr>\n",
       "    <tr>\n",
       "      <th>2</th>\n",
       "      <td>Dhiru</td>\n",
       "      <td>Singh</td>\n",
       "      <td>dhirenndra.singh@gmail.com</td>\n",
       "    </tr>\n",
       "  </tbody>\n",
       "</table>\n",
       "</div>"
      ],
      "text/plain": [
       "      first    last                       email\n",
       "0     vivek  vishal    vishalvivek488@gmail.com\n",
       "1  shashwat   verma     shashwatverma@gmail.com\n",
       "2     Dhiru   Singh  dhirenndra.singh@gmail.com"
      ]
     },
     "execution_count": 36,
     "metadata": {},
     "output_type": "execute_result"
    }
   ],
   "source": [
    "df"
   ]
  },
  {
   "cell_type": "code",
   "execution_count": 37,
   "id": "1a618491-9203-4b14-8543-5c812d83e18c",
   "metadata": {},
   "outputs": [],
   "source": [
    "# .at method\n",
    "df.at[2, 'last'] = 'Sin'"
   ]
  },
  {
   "cell_type": "code",
   "execution_count": 38,
   "id": "6c06df89-8f40-4e06-a562-73b355ddc0f6",
   "metadata": {},
   "outputs": [
    {
     "data": {
      "text/html": [
       "<div>\n",
       "<style scoped>\n",
       "    .dataframe tbody tr th:only-of-type {\n",
       "        vertical-align: middle;\n",
       "    }\n",
       "\n",
       "    .dataframe tbody tr th {\n",
       "        vertical-align: top;\n",
       "    }\n",
       "\n",
       "    .dataframe thead th {\n",
       "        text-align: right;\n",
       "    }\n",
       "</style>\n",
       "<table border=\"1\" class=\"dataframe\">\n",
       "  <thead>\n",
       "    <tr style=\"text-align: right;\">\n",
       "      <th></th>\n",
       "      <th>first</th>\n",
       "      <th>last</th>\n",
       "      <th>email</th>\n",
       "    </tr>\n",
       "  </thead>\n",
       "  <tbody>\n",
       "    <tr>\n",
       "      <th>0</th>\n",
       "      <td>vivek</td>\n",
       "      <td>vishal</td>\n",
       "      <td>vishalvivek488@gmail.com</td>\n",
       "    </tr>\n",
       "    <tr>\n",
       "      <th>1</th>\n",
       "      <td>shashwat</td>\n",
       "      <td>verma</td>\n",
       "      <td>shashwatverma@gmail.com</td>\n",
       "    </tr>\n",
       "    <tr>\n",
       "      <th>2</th>\n",
       "      <td>Dhiru</td>\n",
       "      <td>Sin</td>\n",
       "      <td>dhirenndra.singh@gmail.com</td>\n",
       "    </tr>\n",
       "  </tbody>\n",
       "</table>\n",
       "</div>"
      ],
      "text/plain": [
       "      first    last                       email\n",
       "0     vivek  vishal    vishalvivek488@gmail.com\n",
       "1  shashwat   verma     shashwatverma@gmail.com\n",
       "2     Dhiru     Sin  dhirenndra.singh@gmail.com"
      ]
     },
     "execution_count": 38,
     "metadata": {},
     "output_type": "execute_result"
    }
   ],
   "source": [
    "df"
   ]
  },
  {
   "cell_type": "markdown",
   "id": "8c3be971-cfdd-43e3-b993-a2ad6651bbc9",
   "metadata": {},
   "source": [
    "What happens if we try changing without using the .loc or .at method"
   ]
  },
  {
   "cell_type": "code",
   "execution_count": 39,
   "id": "febe0986-c762-4270-afc3-497ff1e227fe",
   "metadata": {},
   "outputs": [
    {
     "data": {
      "text/html": [
       "<div>\n",
       "<style scoped>\n",
       "    .dataframe tbody tr th:only-of-type {\n",
       "        vertical-align: middle;\n",
       "    }\n",
       "\n",
       "    .dataframe tbody tr th {\n",
       "        vertical-align: top;\n",
       "    }\n",
       "\n",
       "    .dataframe thead th {\n",
       "        text-align: right;\n",
       "    }\n",
       "</style>\n",
       "<table border=\"1\" class=\"dataframe\">\n",
       "  <thead>\n",
       "    <tr style=\"text-align: right;\">\n",
       "      <th></th>\n",
       "      <th>first</th>\n",
       "      <th>last</th>\n",
       "      <th>email</th>\n",
       "    </tr>\n",
       "  </thead>\n",
       "  <tbody>\n",
       "    <tr>\n",
       "      <th>2</th>\n",
       "      <td>Dhiru</td>\n",
       "      <td>Sin</td>\n",
       "      <td>dhirenndra.singh@gmail.com</td>\n",
       "    </tr>\n",
       "  </tbody>\n",
       "</table>\n",
       "</div>"
      ],
      "text/plain": [
       "   first last                       email\n",
       "2  Dhiru  Sin  dhirenndra.singh@gmail.com"
      ]
     },
     "execution_count": 39,
     "metadata": {},
     "output_type": "execute_result"
    }
   ],
   "source": [
    "filt = (df['email'] == 'dhirenndra.singh@gmail.com')\n",
    "df[filt] # results a dataframe:\n",
    "\n",
    "#       first \tlast \temail\n",
    "# 2 \tDhiru \tSin \tdhirenndra.singh@gmail.com"
   ]
  },
  {
   "cell_type": "code",
   "execution_count": 40,
   "id": "fd501064-7745-4a92-8f0c-c4bf16e43cf1",
   "metadata": {},
   "outputs": [
    {
     "data": {
      "text/plain": [
       "2    Sin\n",
       "Name: last, dtype: object"
      ]
     },
     "execution_count": 40,
     "metadata": {},
     "output_type": "execute_result"
    }
   ],
   "source": [
    "df[filt]['last']"
   ]
  },
  {
   "cell_type": "code",
   "execution_count": 43,
   "id": "71635645-8b7f-4f94-a2ba-c972822084a7",
   "metadata": {},
   "outputs": [
    {
     "name": "stderr",
     "output_type": "stream",
     "text": [
      "/tmp/ipykernel_157607/2277118511.py:1: SettingWithCopyWarning: \n",
      "A value is trying to be set on a copy of a slice from a DataFrame.\n",
      "Try using .loc[row_indexer,col_indexer] = value instead\n",
      "\n",
      "See the caveats in the documentation: https://pandas.pydata.org/pandas-docs/stable/user_guide/indexing.html#returning-a-view-versus-a-copy\n",
      "  df[filt]['last'] ='Singh'\n"
     ]
    }
   ],
   "source": [
    "df[filt]['last'] ='Singh'\n",
    "# value can't be set on a copy of a slice from a df\n",
    "# advised to use .loc[row_indexer, col_indexer] = value \n"
   ]
  },
  {
   "cell_type": "code",
   "execution_count": 44,
   "id": "4562ed39-8ad9-4020-8164-20baa1646d31",
   "metadata": {},
   "outputs": [
    {
     "data": {
      "text/html": [
       "<div>\n",
       "<style scoped>\n",
       "    .dataframe tbody tr th:only-of-type {\n",
       "        vertical-align: middle;\n",
       "    }\n",
       "\n",
       "    .dataframe tbody tr th {\n",
       "        vertical-align: top;\n",
       "    }\n",
       "\n",
       "    .dataframe thead th {\n",
       "        text-align: right;\n",
       "    }\n",
       "</style>\n",
       "<table border=\"1\" class=\"dataframe\">\n",
       "  <thead>\n",
       "    <tr style=\"text-align: right;\">\n",
       "      <th></th>\n",
       "      <th>first</th>\n",
       "      <th>last</th>\n",
       "      <th>email</th>\n",
       "    </tr>\n",
       "  </thead>\n",
       "  <tbody>\n",
       "    <tr>\n",
       "      <th>0</th>\n",
       "      <td>vivek</td>\n",
       "      <td>vishal</td>\n",
       "      <td>vishalvivek488@gmail.com</td>\n",
       "    </tr>\n",
       "    <tr>\n",
       "      <th>1</th>\n",
       "      <td>shashwat</td>\n",
       "      <td>verma</td>\n",
       "      <td>shashwatverma@gmail.com</td>\n",
       "    </tr>\n",
       "    <tr>\n",
       "      <th>2</th>\n",
       "      <td>Dhiru</td>\n",
       "      <td>Sin</td>\n",
       "      <td>dhirenndra.singh@gmail.com</td>\n",
       "    </tr>\n",
       "  </tbody>\n",
       "</table>\n",
       "</div>"
      ],
      "text/plain": [
       "      first    last                       email\n",
       "0     vivek  vishal    vishalvivek488@gmail.com\n",
       "1  shashwat   verma     shashwatverma@gmail.com\n",
       "2     Dhiru     Sin  dhirenndra.singh@gmail.com"
      ]
     },
     "execution_count": 44,
     "metadata": {},
     "output_type": "execute_result"
    }
   ],
   "source": [
    "df # not change"
   ]
  },
  {
   "cell_type": "markdown",
   "id": "7941144d-30ae-4af1-8b7c-2c55d15fa160",
   "metadata": {},
   "source": [
    "See the explanation in the error message link for details, but the short version is that the way we're doing this requires multiple operations in the background to determine whether pandas returns a view or a copy of our dataset. Here, our value is only getting set on a temporary object that pandas discards immediately after."
   ]
  },
  {
   "cell_type": "code",
   "execution_count": 47,
   "id": "33296049-9a3a-458a-8c94-acbd773ae436",
   "metadata": {},
   "outputs": [],
   "source": [
    "filt = (df['email'] == 'vishalvivek488@gmail.com')\n",
    "df.loc[filt, 'last'] = 'Vi'"
   ]
  },
  {
   "cell_type": "code",
   "execution_count": 57,
   "id": "ca54f979-bd4b-47ea-a8c1-48effa86cfc2",
   "metadata": {},
   "outputs": [
    {
     "data": {
      "text/html": [
       "<div>\n",
       "<style scoped>\n",
       "    .dataframe tbody tr th:only-of-type {\n",
       "        vertical-align: middle;\n",
       "    }\n",
       "\n",
       "    .dataframe tbody tr th {\n",
       "        vertical-align: top;\n",
       "    }\n",
       "\n",
       "    .dataframe thead th {\n",
       "        text-align: right;\n",
       "    }\n",
       "</style>\n",
       "<table border=\"1\" class=\"dataframe\">\n",
       "  <thead>\n",
       "    <tr style=\"text-align: right;\">\n",
       "      <th></th>\n",
       "      <th>first</th>\n",
       "      <th>last</th>\n",
       "      <th>email</th>\n",
       "    </tr>\n",
       "  </thead>\n",
       "  <tbody>\n",
       "    <tr>\n",
       "      <th>0</th>\n",
       "      <td>vivek</td>\n",
       "      <td>vishal</td>\n",
       "      <td>vishalviVek488@gmail.com</td>\n",
       "    </tr>\n",
       "    <tr>\n",
       "      <th>1</th>\n",
       "      <td>shashwat</td>\n",
       "      <td>verma</td>\n",
       "      <td>shashwatVerma@gmail.com</td>\n",
       "    </tr>\n",
       "    <tr>\n",
       "      <th>2</th>\n",
       "      <td>sumit</td>\n",
       "      <td>narayan</td>\n",
       "      <td>Sumit@mgmail.com</td>\n",
       "    </tr>\n",
       "  </tbody>\n",
       "</table>\n",
       "</div>"
      ],
      "text/plain": [
       "      first     last                     email\n",
       "0     vivek   vishal  vishalviVek488@gmail.com\n",
       "1  shashwat    verma   shashwatVerma@gmail.com\n",
       "2     sumit  narayan          Sumit@mgmail.com"
      ]
     },
     "execution_count": 57,
     "metadata": {},
     "output_type": "execute_result"
    }
   ],
   "source": [
    "df"
   ]
  },
  {
   "cell_type": "markdown",
   "id": "1ff956d9-02b4-482b-9064-b58ed3c8151c",
   "metadata": {},
   "source": [
    "for multiple rows: "
   ]
  },
  {
   "cell_type": "code",
   "execution_count": 58,
   "id": "c636397b-0574-45ef-8aae-8a6d158329e7",
   "metadata": {},
   "outputs": [
    {
     "data": {
      "text/plain": [
       "0    vishalvivek488@gmail.com\n",
       "1     shashwatverma@gmail.com\n",
       "2            sumit@mgmail.com\n",
       "Name: email, dtype: object"
      ]
     },
     "execution_count": 58,
     "metadata": {},
     "output_type": "execute_result"
    }
   ],
   "source": [
    "df['email'].str.lower() # doesn't change original df\n",
    "# to effect the change, just assign\n",
    "# new values to df['email']"
   ]
  },
  {
   "cell_type": "code",
   "execution_count": 60,
   "id": "d5f6d483-a978-4ae3-971a-5b6738b10cee",
   "metadata": {},
   "outputs": [],
   "source": [
    "df['email'] = df['email'].str.lower()"
   ]
  },
  {
   "cell_type": "code",
   "execution_count": 61,
   "id": "9332c4fd-4638-4681-85c2-52ce2461d5d3",
   "metadata": {},
   "outputs": [
    {
     "data": {
      "text/html": [
       "<div>\n",
       "<style scoped>\n",
       "    .dataframe tbody tr th:only-of-type {\n",
       "        vertical-align: middle;\n",
       "    }\n",
       "\n",
       "    .dataframe tbody tr th {\n",
       "        vertical-align: top;\n",
       "    }\n",
       "\n",
       "    .dataframe thead th {\n",
       "        text-align: right;\n",
       "    }\n",
       "</style>\n",
       "<table border=\"1\" class=\"dataframe\">\n",
       "  <thead>\n",
       "    <tr style=\"text-align: right;\">\n",
       "      <th></th>\n",
       "      <th>first</th>\n",
       "      <th>last</th>\n",
       "      <th>email</th>\n",
       "    </tr>\n",
       "  </thead>\n",
       "  <tbody>\n",
       "    <tr>\n",
       "      <th>0</th>\n",
       "      <td>vivek</td>\n",
       "      <td>vishal</td>\n",
       "      <td>vishalvivek488@gmail.com</td>\n",
       "    </tr>\n",
       "    <tr>\n",
       "      <th>1</th>\n",
       "      <td>shashwat</td>\n",
       "      <td>verma</td>\n",
       "      <td>shashwatverma@gmail.com</td>\n",
       "    </tr>\n",
       "    <tr>\n",
       "      <th>2</th>\n",
       "      <td>sumit</td>\n",
       "      <td>narayan</td>\n",
       "      <td>sumit@mgmail.com</td>\n",
       "    </tr>\n",
       "  </tbody>\n",
       "</table>\n",
       "</div>"
      ],
      "text/plain": [
       "      first     last                     email\n",
       "0     vivek   vishal  vishalvivek488@gmail.com\n",
       "1  shashwat    verma   shashwatverma@gmail.com\n",
       "2     sumit  narayan          sumit@mgmail.com"
      ]
     },
     "execution_count": 61,
     "metadata": {},
     "output_type": "execute_result"
    }
   ],
   "source": [
    "df"
   ]
  },
  {
   "cell_type": "markdown",
   "id": "b5299c42-e8ae-4e3b-b591-c8ff8162b0db",
   "metadata": {},
   "source": [
    "#### More Advanced Methods"
   ]
  },
  {
   "cell_type": "markdown",
   "id": "4e9665c2-b3dd-4cad-83ce-bd8a1b546cd7",
   "metadata": {},
   "source": [
    "methods to change multiple rows at once:\n",
    "- apply\n",
    "- map\n",
    "- applymap\n",
    "- replace"
   ]
  },
  {
   "cell_type": "markdown",
   "id": "53f910b0-6cac-49f6-878f-124dade67861",
   "metadata": {},
   "source": [
    "#### apply"
   ]
  },
  {
   "cell_type": "code",
   "execution_count": 62,
   "id": "281ece79-f7a4-4624-9ca8-f60149450034",
   "metadata": {},
   "outputs": [
    {
     "data": {
      "text/plain": [
       "0    24\n",
       "1    23\n",
       "2    16\n",
       "Name: email, dtype: int64"
      ]
     },
     "execution_count": 62,
     "metadata": {},
     "output_type": "execute_result"
    }
   ],
   "source": [
    "df['email'].apply(len)"
   ]
  },
  {
   "cell_type": "markdown",
   "id": "fc6b4aa6-617e-4713-a984-292eea7fb182",
   "metadata": {},
   "source": [
    "changing all emails to uppercase using simple function"
   ]
  },
  {
   "cell_type": "code",
   "execution_count": 63,
   "id": "02e9eaa3-c3e0-4add-98e5-d78629b2f8b3",
   "metadata": {},
   "outputs": [],
   "source": [
    "def update_email(email):\n",
    "    return email.upper()\n"
   ]
  },
  {
   "cell_type": "code",
   "execution_count": 67,
   "id": "cdb6d86f-eb02-48a2-b934-ad01cb127912",
   "metadata": {},
   "outputs": [
    {
     "data": {
      "text/plain": [
       "0    VISHALVIVEK488@GMAIL.COM\n",
       "1     SHASHWATVERMA@GMAIL.COM\n",
       "2            SUMIT@MGMAIL.COM\n",
       "Name: email, dtype: object"
      ]
     },
     "execution_count": 67,
     "metadata": {},
     "output_type": "execute_result"
    }
   ],
   "source": [
    "# apply function to a series : email func\n",
    "df['email'].apply(update_email)"
   ]
  },
  {
   "cell_type": "code",
   "execution_count": 68,
   "id": "afe3cb28-7a4d-47f3-bbb1-25e8a702b025",
   "metadata": {},
   "outputs": [
    {
     "data": {
      "text/html": [
       "<div>\n",
       "<style scoped>\n",
       "    .dataframe tbody tr th:only-of-type {\n",
       "        vertical-align: middle;\n",
       "    }\n",
       "\n",
       "    .dataframe tbody tr th {\n",
       "        vertical-align: top;\n",
       "    }\n",
       "\n",
       "    .dataframe thead th {\n",
       "        text-align: right;\n",
       "    }\n",
       "</style>\n",
       "<table border=\"1\" class=\"dataframe\">\n",
       "  <thead>\n",
       "    <tr style=\"text-align: right;\">\n",
       "      <th></th>\n",
       "      <th>first</th>\n",
       "      <th>last</th>\n",
       "      <th>email</th>\n",
       "    </tr>\n",
       "  </thead>\n",
       "  <tbody>\n",
       "    <tr>\n",
       "      <th>0</th>\n",
       "      <td>vivek</td>\n",
       "      <td>vishal</td>\n",
       "      <td>vishalvivek488@gmail.com</td>\n",
       "    </tr>\n",
       "    <tr>\n",
       "      <th>1</th>\n",
       "      <td>shashwat</td>\n",
       "      <td>verma</td>\n",
       "      <td>shashwatverma@gmail.com</td>\n",
       "    </tr>\n",
       "    <tr>\n",
       "      <th>2</th>\n",
       "      <td>sumit</td>\n",
       "      <td>narayan</td>\n",
       "      <td>sumit@mgmail.com</td>\n",
       "    </tr>\n",
       "  </tbody>\n",
       "</table>\n",
       "</div>"
      ],
      "text/plain": [
       "      first     last                     email\n",
       "0     vivek   vishal  vishalvivek488@gmail.com\n",
       "1  shashwat    verma   shashwatverma@gmail.com\n",
       "2     sumit  narayan          sumit@mgmail.com"
      ]
     },
     "execution_count": 68,
     "metadata": {},
     "output_type": "execute_result"
    }
   ],
   "source": [
    "df"
   ]
  },
  {
   "cell_type": "code",
   "execution_count": 69,
   "id": "27cd07e2-833a-4795-90f7-de16642d206e",
   "metadata": {},
   "outputs": [],
   "source": [
    "# to persist changes to original df\n",
    "df['email'] = df['email'].apply(update_email)"
   ]
  },
  {
   "cell_type": "code",
   "execution_count": 70,
   "id": "faad24af-f88d-4d33-bb39-84dbfeb64f6b",
   "metadata": {},
   "outputs": [
    {
     "data": {
      "text/html": [
       "<div>\n",
       "<style scoped>\n",
       "    .dataframe tbody tr th:only-of-type {\n",
       "        vertical-align: middle;\n",
       "    }\n",
       "\n",
       "    .dataframe tbody tr th {\n",
       "        vertical-align: top;\n",
       "    }\n",
       "\n",
       "    .dataframe thead th {\n",
       "        text-align: right;\n",
       "    }\n",
       "</style>\n",
       "<table border=\"1\" class=\"dataframe\">\n",
       "  <thead>\n",
       "    <tr style=\"text-align: right;\">\n",
       "      <th></th>\n",
       "      <th>first</th>\n",
       "      <th>last</th>\n",
       "      <th>email</th>\n",
       "    </tr>\n",
       "  </thead>\n",
       "  <tbody>\n",
       "    <tr>\n",
       "      <th>0</th>\n",
       "      <td>vivek</td>\n",
       "      <td>vishal</td>\n",
       "      <td>VISHALVIVEK488@GMAIL.COM</td>\n",
       "    </tr>\n",
       "    <tr>\n",
       "      <th>1</th>\n",
       "      <td>shashwat</td>\n",
       "      <td>verma</td>\n",
       "      <td>SHASHWATVERMA@GMAIL.COM</td>\n",
       "    </tr>\n",
       "    <tr>\n",
       "      <th>2</th>\n",
       "      <td>sumit</td>\n",
       "      <td>narayan</td>\n",
       "      <td>SUMIT@MGMAIL.COM</td>\n",
       "    </tr>\n",
       "  </tbody>\n",
       "</table>\n",
       "</div>"
      ],
      "text/plain": [
       "      first     last                     email\n",
       "0     vivek   vishal  VISHALVIVEK488@GMAIL.COM\n",
       "1  shashwat    verma   SHASHWATVERMA@GMAIL.COM\n",
       "2     sumit  narayan          SUMIT@MGMAIL.COM"
      ]
     },
     "execution_count": 70,
     "metadata": {},
     "output_type": "execute_result"
    }
   ],
   "source": [
    "df"
   ]
  },
  {
   "cell_type": "code",
   "execution_count": 71,
   "id": "c7be8e06-0552-4b3b-b71c-f6025d8797d5",
   "metadata": {},
   "outputs": [],
   "source": [
    "# using lambda function to lowercase all emails\n",
    "df['email'] = df['email'].apply(lambda x: x.lower())"
   ]
  },
  {
   "cell_type": "code",
   "execution_count": 72,
   "id": "66338189-673d-45e6-bca4-25176ecfe2ba",
   "metadata": {},
   "outputs": [
    {
     "data": {
      "text/html": [
       "<div>\n",
       "<style scoped>\n",
       "    .dataframe tbody tr th:only-of-type {\n",
       "        vertical-align: middle;\n",
       "    }\n",
       "\n",
       "    .dataframe tbody tr th {\n",
       "        vertical-align: top;\n",
       "    }\n",
       "\n",
       "    .dataframe thead th {\n",
       "        text-align: right;\n",
       "    }\n",
       "</style>\n",
       "<table border=\"1\" class=\"dataframe\">\n",
       "  <thead>\n",
       "    <tr style=\"text-align: right;\">\n",
       "      <th></th>\n",
       "      <th>first</th>\n",
       "      <th>last</th>\n",
       "      <th>email</th>\n",
       "    </tr>\n",
       "  </thead>\n",
       "  <tbody>\n",
       "    <tr>\n",
       "      <th>0</th>\n",
       "      <td>vivek</td>\n",
       "      <td>vishal</td>\n",
       "      <td>vishalvivek488@gmail.com</td>\n",
       "    </tr>\n",
       "    <tr>\n",
       "      <th>1</th>\n",
       "      <td>shashwat</td>\n",
       "      <td>verma</td>\n",
       "      <td>shashwatverma@gmail.com</td>\n",
       "    </tr>\n",
       "    <tr>\n",
       "      <th>2</th>\n",
       "      <td>sumit</td>\n",
       "      <td>narayan</td>\n",
       "      <td>sumit@mgmail.com</td>\n",
       "    </tr>\n",
       "  </tbody>\n",
       "</table>\n",
       "</div>"
      ],
      "text/plain": [
       "      first     last                     email\n",
       "0     vivek   vishal  vishalvivek488@gmail.com\n",
       "1  shashwat    verma   shashwatverma@gmail.com\n",
       "2     sumit  narayan          sumit@mgmail.com"
      ]
     },
     "execution_count": 72,
     "metadata": {},
     "output_type": "execute_result"
    }
   ],
   "source": [
    "df"
   ]
  },
  {
   "cell_type": "code",
   "execution_count": null,
   "id": "36e74e8b-66eb-4922-b6c6-4db7a20ae92e",
   "metadata": {},
   "outputs": [],
   "source": []
  }
 ],
 "metadata": {
  "kernelspec": {
   "display_name": "Python 3 (ipykernel)",
   "language": "python",
   "name": "python3"
  },
  "language_info": {
   "codemirror_mode": {
    "name": "ipython",
    "version": 3
   },
   "file_extension": ".py",
   "mimetype": "text/x-python",
   "name": "python",
   "nbconvert_exporter": "python",
   "pygments_lexer": "ipython3",
   "version": "3.10.12"
  }
 },
 "nbformat": 4,
 "nbformat_minor": 5
}
