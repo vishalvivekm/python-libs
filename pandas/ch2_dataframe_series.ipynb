{
 "cells": [
  {
   "cell_type": "code",
   "execution_count": null,
   "id": "0bb342bd-28ba-4849-9556-fdd4e3bf99ad",
   "metadata": {},
   "outputs": [],
   "source": [
    "people = {\n",
    "    \"first\": ['vivek', 'shashwat', 'sumit'],\n",
    "    \"last\": ['vishal', 'verma', 'narayan'],\n",
    "    \"email\": ['vishalvivek488@gmail.com', 'shashwatverma@gmail.com', 'sumit@mgmail.com']\n",
    "}"
   ]
  },
  {
   "cell_type": "code",
   "execution_count": null,
   "id": "10a6877b-41ab-4987-994c-89199ae17596",
   "metadata": {},
   "outputs": [
    {
     "data": {
      "text/plain": [
       "['vishalvivek488@gmail.com', 'shashwatverma@gmail.com', 'sumit@mgmail.com']"
      ]
     },
     "execution_count": 7,
     "metadata": {},
     "output_type": "execute_result"
    }
   ],
   "source": [
    "people['email']"
   ]
  },
  {
   "cell_type": "code",
   "execution_count": null,
   "id": "a4ab70e6-58e1-4a23-8fc8-4b6e2a051851",
   "metadata": {
    "jp-MarkdownHeadingCollapsed": true
   },
   "outputs": [],
   "source": [
    "import pandas as pd"
   ]
  },
  {
   "cell_type": "code",
   "execution_count": null,
   "id": "47c9e7e9-5cbb-45ca-b4b6-1d2c53fa241e",
   "metadata": {},
   "outputs": [],
   "source": [
    "df = pd.DataFrame(people)"
   ]
  },
  {
   "cell_type": "code",
   "execution_count": null,
   "id": "a42d9611-69b4-410e-a5b7-e83672e68aca",
   "metadata": {},
   "outputs": [
    {
     "data": {
      "text/html": [
       "<div>\n",
       "<style scoped>\n",
       "    .dataframe tbody tr th:only-of-type {\n",
       "        vertical-align: middle;\n",
       "    }\n",
       "\n",
       "    .dataframe tbody tr th {\n",
       "        vertical-align: top;\n",
       "    }\n",
       "\n",
       "    .dataframe thead th {\n",
       "        text-align: right;\n",
       "    }\n",
       "</style>\n",
       "<table border=\"1\" class=\"dataframe\">\n",
       "  <thead>\n",
       "    <tr style=\"text-align: right;\">\n",
       "      <th></th>\n",
       "      <th>first</th>\n",
       "      <th>last</th>\n",
       "      <th>email</th>\n",
       "    </tr>\n",
       "  </thead>\n",
       "  <tbody>\n",
       "    <tr>\n",
       "      <th>0</th>\n",
       "      <td>vivek</td>\n",
       "      <td>vishal</td>\n",
       "      <td>vishalvivek488@gmail.com</td>\n",
       "    </tr>\n",
       "    <tr>\n",
       "      <th>1</th>\n",
       "      <td>shashwat</td>\n",
       "      <td>verma</td>\n",
       "      <td>shashwatverma@gmail.com</td>\n",
       "    </tr>\n",
       "    <tr>\n",
       "      <th>2</th>\n",
       "      <td>sumit</td>\n",
       "      <td>narayan</td>\n",
       "      <td>sumit@mgmail.com</td>\n",
       "    </tr>\n",
       "  </tbody>\n",
       "</table>\n",
       "</div>"
      ],
      "text/plain": [
       "      first     last                     email\n",
       "0     vivek   vishal  vishalvivek488@gmail.com\n",
       "1  shashwat    verma   shashwatverma@gmail.com\n",
       "2     sumit  narayan          sumit@mgmail.com"
      ]
     },
     "execution_count": 10,
     "metadata": {},
     "output_type": "execute_result"
    }
   ],
   "source": [
    "df"
   ]
  },
  {
   "cell_type": "code",
   "execution_count": null,
   "id": "fb46ad30",
   "metadata": {},
   "outputs": [
    {
     "data": {
      "text/plain": [
       "pandas.core.frame.DataFrame"
      ]
     },
     "execution_count": 11,
     "metadata": {},
     "output_type": "execute_result"
    }
   ],
   "source": [
    "type(df)\n",
    "# pandas.core.frame.DataFrame"
   ]
  },
  {
   "cell_type": "code",
   "execution_count": null,
   "id": "fa5e3a0e-74d2-4e5c-bc24-1a194abad04b",
   "metadata": {},
   "outputs": [
    {
     "data": {
      "text/plain": [
       "0    vishalvivek488@gmail.com\n",
       "1     shashwatverma@gmail.com\n",
       "2            sumit@mgmail.com\n",
       "Name: email, dtype: object"
      ]
     },
     "execution_count": 12,
     "metadata": {},
     "output_type": "execute_result"
    }
   ],
   "source": [
    "df['email']"
   ]
  },
  {
   "cell_type": "code",
   "execution_count": null,
   "id": "0873822b-531a-40e8-af5c-add04e7547cc",
   "metadata": {},
   "outputs": [
    {
     "data": {
      "text/plain": [
       "pandas.core.series.Series"
      ]
     },
     "execution_count": 13,
     "metadata": {},
     "output_type": "execute_result"
    }
   ],
   "source": [
    "# A Pandas DataFrame is a two-dimensional, mutable, tabular data structure with labeled axes (rows and columns). It is a fundamental object in the Pandas library, widely used for data manipulation and analysis in Python\n",
    "type(df['email'])\n",
    "# pandas.core.series.Series\n",
    "# think of dataframes as rows and columns ( dataframes are 2-d)\n",
    "# think of series as rows of a single column\n",
    "# dataframe is just a container for multiple series objects\n"
   ]
  },
  {
   "cell_type": "code",
   "execution_count": null,
   "id": "2a9c4a4c-7739-4ddb-9f10-ffbad287b501",
   "metadata": {},
   "outputs": [
    {
     "data": {
      "text/plain": [
       "0    vishalvivek488@gmail.com\n",
       "1     shashwatverma@gmail.com\n",
       "2            sumit@mgmail.com\n",
       "Name: email, dtype: object"
      ]
     },
     "execution_count": 14,
     "metadata": {},
     "output_type": "execute_result"
    }
   ],
   "source": [
    "df.email # dot notation, preferred df.count , df['count']\n"
   ]
  },
  {
   "cell_type": "code",
   "execution_count": null,
   "id": "bdecf9b0-cf6a-4fa8-a6da-bf6eeba9b78a",
   "metadata": {},
   "outputs": [
    {
     "data": {
      "text/html": [
       "<div>\n",
       "<style scoped>\n",
       "    .dataframe tbody tr th:only-of-type {\n",
       "        vertical-align: middle;\n",
       "    }\n",
       "\n",
       "    .dataframe tbody tr th {\n",
       "        vertical-align: top;\n",
       "    }\n",
       "\n",
       "    .dataframe thead th {\n",
       "        text-align: right;\n",
       "    }\n",
       "</style>\n",
       "<table border=\"1\" class=\"dataframe\">\n",
       "  <thead>\n",
       "    <tr style=\"text-align: right;\">\n",
       "      <th></th>\n",
       "      <th>last</th>\n",
       "      <th>email</th>\n",
       "    </tr>\n",
       "  </thead>\n",
       "  <tbody>\n",
       "    <tr>\n",
       "      <th>0</th>\n",
       "      <td>vishal</td>\n",
       "      <td>vishalvivek488@gmail.com</td>\n",
       "    </tr>\n",
       "    <tr>\n",
       "      <th>1</th>\n",
       "      <td>verma</td>\n",
       "      <td>shashwatverma@gmail.com</td>\n",
       "    </tr>\n",
       "    <tr>\n",
       "      <th>2</th>\n",
       "      <td>narayan</td>\n",
       "      <td>sumit@mgmail.com</td>\n",
       "    </tr>\n",
       "  </tbody>\n",
       "</table>\n",
       "</div>"
      ],
      "text/plain": [
       "      last                     email\n",
       "0   vishal  vishalvivek488@gmail.com\n",
       "1    verma   shashwatverma@gmail.com\n",
       "2  narayan          sumit@mgmail.com"
      ]
     },
     "execution_count": 15,
     "metadata": {},
     "output_type": "execute_result"
    }
   ],
   "source": [
    "# multiple columns \n",
    "# pass a list of columns using double-bracket notation.\n",
    "\n",
    "df[['last', 'email']] # returns dataframe and not a series ( series is just 1 d)\n",
    "# here ensure to pass a list of keys to df[], list inside []\n"
   ]
  },
  {
   "cell_type": "code",
   "execution_count": null,
   "id": "1fcb84e7-69ba-41eb-a5f8-e9e1af91cecc",
   "metadata": {},
   "outputs": [
    {
     "data": {
      "text/plain": [
       "Index(['first', 'last', 'email'], dtype='object')"
      ]
     },
     "execution_count": 16,
     "metadata": {},
     "output_type": "execute_result"
    }
   ],
   "source": [
    "df.columns\n",
    "# Index(['first', 'last', 'email'], dtype='object')"
   ]
  },
  {
   "cell_type": "code",
   "execution_count": null,
   "id": "42fb2166-80a2-43b5-9a31-f0ab7f0183fe",
   "metadata": {},
   "outputs": [
    {
     "name": "stdout",
     "output_type": "stream",
     "text": [
      "<class 'pandas.core.series.Series'>\n"
     ]
    },
    {
     "data": {
      "text/plain": [
       "0    vishalvivek488@gmail.com\n",
       "1     shashwatverma@gmail.com\n",
       "Name: email, dtype: object"
      ]
     },
     "execution_count": 21,
     "metadata": {},
     "output_type": "execute_result"
    }
   ],
   "source": [
    "# to get rows, use loc and iloc indexers\n",
    "# iloc = integer location, search by numberic index\n",
    "# loc = search by label\n",
    "\n",
    "#iloc # integer location\n",
    "df.iloc[0] # first row  -> series\n",
    "print(type(df.iloc[0])) # <class 'pandas.core.series.Series'>\n",
    "\n",
    "# returns a series that contains value of first row of data\n",
    "# i.e. first, last and email of first person here\n",
    "\n",
    "# here the index is set to column names\n",
    "df.iloc[[0,1]] # a dataframe containing first and second rows\n",
    "\n",
    "#   first\t    last\temail\n",
    "# 0\tvivek\t    vishal\tvishalvivek488@gmail.com\n",
    "# 1\tshashwat\tverma\tshashwatverma@gmail.com\n",
    "\n",
    "## get email of first and second row\n",
    "df.iloc[[0,1],2]\n",
    "\n",
    "# 0    vishalvivek488@gmail.com\n",
    "# 1     shashwatverma@gmail.com\n",
    "# Name: email, dtype: object\n",
    "\n"
   ]
  },
  {
   "cell_type": "code",
   "execution_count": null,
   "id": "8e2e5c7e",
   "metadata": {},
   "outputs": [],
   "source": []
  },
  {
   "cell_type": "markdown",
   "id": "c6683e87",
   "metadata": {},
   "source": [
    "## using loc ( label indexer)"
   ]
  },
  {
   "cell_type": "code",
   "execution_count": null,
   "id": "c9640e63",
   "metadata": {},
   "outputs": [
    {
     "data": {
      "text/html": [
       "<div>\n",
       "<style scoped>\n",
       "    .dataframe tbody tr th:only-of-type {\n",
       "        vertical-align: middle;\n",
       "    }\n",
       "\n",
       "    .dataframe tbody tr th {\n",
       "        vertical-align: top;\n",
       "    }\n",
       "\n",
       "    .dataframe thead th {\n",
       "        text-align: right;\n",
       "    }\n",
       "</style>\n",
       "<table border=\"1\" class=\"dataframe\">\n",
       "  <thead>\n",
       "    <tr style=\"text-align: right;\">\n",
       "      <th></th>\n",
       "      <th>last</th>\n",
       "      <th>email</th>\n",
       "    </tr>\n",
       "  </thead>\n",
       "  <tbody>\n",
       "    <tr>\n",
       "      <th>0</th>\n",
       "      <td>vishal</td>\n",
       "      <td>vishalvivek488@gmail.com</td>\n",
       "    </tr>\n",
       "    <tr>\n",
       "      <th>1</th>\n",
       "      <td>verma</td>\n",
       "      <td>shashwatverma@gmail.com</td>\n",
       "    </tr>\n",
       "    <tr>\n",
       "      <th>2</th>\n",
       "      <td>narayan</td>\n",
       "      <td>sumit@mgmail.com</td>\n",
       "    </tr>\n",
       "  </tbody>\n",
       "</table>\n",
       "</div>"
      ],
      "text/plain": [
       "      last                     email\n",
       "0   vishal  vishalvivek488@gmail.com\n",
       "1    verma   shashwatverma@gmail.com\n",
       "2  narayan          sumit@mgmail.com"
      ]
     },
     "execution_count": 50,
     "metadata": {},
     "output_type": "execute_result"
    }
   ],
   "source": [
    "# using loc w/o custom labels looks a lot like iloc because\n",
    "# we have to use a numeric value\n",
    "\n",
    "df.loc[0] # first row\n",
    "# first                       vivek\n",
    "# last                       vishal\n",
    "# email    vishalvivek488@gmail.com\n",
    "# Name: 0, dtype: object\n",
    "\n",
    "df.loc[[0,1]] # getting first and second rows\n",
    "\n",
    "#   first\t    last\temail\n",
    "# 0\tvivek\t    vishal\tvishalvivek488@gmail.com\n",
    "# 1\tshashwat\tverma\tshashwatverma@gmail.com\n",
    "\n",
    "# now to get email of first and second person\n",
    "df.loc[[0,1], 'email'] # df.iloc[[0,1], 2] # email is third column (2)\n",
    "\n",
    "# 0    vishalvivek488@gmail.com\n",
    "# 1     shashwatverma@gmail.com\n",
    "# Name: email, dtype: object\n",
    "\n",
    "\n",
    "# retriving multiple columns \n",
    "df.loc[[0,1], ['email', 'last']]\n",
    "\n",
    "# getting email of first person\n",
    "df.loc[0,'email'] # vishalvivek488@gmail.com\n",
    "# note we can drop the brackets when selecting rows and a column together\n",
    "# \n",
    "df.loc[0:1, 'email'] \n",
    "# df.iloc[0:2, 2] # email is 3rd column\n",
    "\n",
    "\n",
    "# 0    vishalvivek488@gmail.com\n",
    "# 1     shashwatverma@gmail.com\n",
    "# Name: email, dtype: object\n",
    "\n",
    "# drop brackets when selecting a slice of rows and columns\n",
    "df.loc[0:2, 'last':'email']\n",
    "\n",
    "\n",
    "#   last\temail\n",
    "# 0\tvishal\tvishalvivek488@gmail.com\n",
    "# 1\tverma\tshashwatverma@gmail.com\n",
    "# 2\tnarayan\tsumit@mgmail.com\n"
   ]
  },
  {
   "cell_type": "code",
   "execution_count": null,
   "id": "b29e3353",
   "metadata": {},
   "outputs": [
    {
     "data": {
      "text/plain": [
       "0    vishalvivek488@gmail.com\n",
       "1     shashwatverma@gmail.com\n",
       "Name: email, dtype: object"
      ]
     },
     "metadata": {},
     "output_type": "display_data"
    }
   ],
   "source": [
    "# using loc w/o custom labels looks a lot like iloc because\n",
    "# we have to use a numeric value\n",
    "\n",
    "df.loc[0] # first row\n",
    "# first                       vivek\n",
    "# last                       vishal\n",
    "# email    vishalvivek488@gmail.com\n",
    "# Name: 0, dtype: object\n",
    "\n",
    "df.loc[[0,1]] # getting first and second rows\n",
    "\n",
    "#   first\t    last\temail\n",
    "# 0\tvivek\t    vishal\tvishalvivek488@gmail.com\n",
    "# 1\tshashwat\tverma\tshashwatverma@gmail.com\n",
    "\n",
    "# now to get email of first and second person\n",
    "df.loc[[0,1], 'email'] # df.iloc[[0,1], 2] # email is third column (2)\n",
    "\n",
    "# 0    vishalvivek488@gmail.com\n",
    "# 1     shashwatverma@gmail.com\n",
    "# Name: email, dtype: object\n",
    "\n",
    "\n",
    "# retriving multiple columns \n",
    "df.loc[[0,1], ['email', 'last']]\n",
    "\n",
    "# getting email of first person\n",
    "df.loc[0,'email'] # vishalvivek488@gmail.com\n",
    "# note we can drop the brackets when selecting rows and a column together\n",
    "# \n",
    "df.loc[0:1, 'email'] \n",
    "df.iloc[0:2, 2]"
   ]
  },
  {
   "cell_type": "markdown",
   "id": "a0ab49dd",
   "metadata": {},
   "source": [
    "## Using Survey data"
   ]
  },
  {
   "cell_type": "code",
   "execution_count": null,
   "id": "963647cc",
   "metadata": {},
   "outputs": [],
   "source": [
    "res_df = pd.read_csv('data/survey_results_public.csv')\n",
    "schema_df = pd.read_csv('data/survey_results_schema.csv')\n",
    "pd.set_option('display.max_columns', 85)\n",
    "pd.set_option('display.max_rows', 85)"
   ]
  },
  {
   "cell_type": "code",
   "execution_count": null,
   "id": "38a6ffdf",
   "metadata": {},
   "outputs": [
    {
     "data": {
      "text/plain": [
       "Index(['Respondent', 'MainBranch', 'Hobbyist', 'OpenSourcer', 'OpenSource',\n",
       "       'Employment', 'Country', 'Student', 'EdLevel', 'UndergradMajor',\n",
       "       'EduOther', 'OrgSize', 'DevType', 'YearsCode', 'Age1stCode',\n",
       "       'YearsCodePro', 'CareerSat', 'JobSat', 'MgrIdiot', 'MgrMoney',\n",
       "       'MgrWant', 'JobSeek', 'LastHireDate', 'LastInt', 'FizzBuzz',\n",
       "       'JobFactors', 'ResumeUpdate', 'CurrencySymbol', 'CurrencyDesc',\n",
       "       'CompTotal', 'CompFreq', 'ConvertedComp', 'WorkWeekHrs', 'WorkPlan',\n",
       "       'WorkChallenge', 'WorkRemote', 'WorkLoc', 'ImpSyn', 'CodeRev',\n",
       "       'CodeRevHrs', 'UnitTests', 'PurchaseHow', 'PurchaseWhat',\n",
       "       'LanguageWorkedWith', 'LanguageDesireNextYear', 'DatabaseWorkedWith',\n",
       "       'DatabaseDesireNextYear', 'PlatformWorkedWith',\n",
       "       'PlatformDesireNextYear', 'WebFrameWorkedWith',\n",
       "       'WebFrameDesireNextYear', 'MiscTechWorkedWith',\n",
       "       'MiscTechDesireNextYear', 'DevEnviron', 'OpSys', 'Containers',\n",
       "       'BlockchainOrg', 'BlockchainIs', 'BetterLife', 'ITperson', 'OffOn',\n",
       "       'SocialMedia', 'Extraversion', 'ScreenName', 'SOVisit1st',\n",
       "       'SOVisitFreq', 'SOVisitTo', 'SOFindAnswer', 'SOTimeSaved',\n",
       "       'SOHowMuchTime', 'SOAccount', 'SOPartFreq', 'SOJobs', 'EntTeams',\n",
       "       'SOComm', 'WelcomeChange', 'SONewContent', 'Age', 'Gender', 'Trans',\n",
       "       'Sexuality', 'Ethnicity', 'Dependents', 'SurveyLength', 'SurveyEase'],\n",
       "      dtype='object')"
      ]
     },
     "execution_count": 29,
     "metadata": {},
     "output_type": "execute_result"
    }
   ],
   "source": [
    "res_df.shape # rows. columns\n",
    "\n",
    "res_df.columns"
   ]
  },
  {
   "cell_type": "code",
   "execution_count": null,
   "id": "8de12504",
   "metadata": {},
   "outputs": [
    {
     "data": {
      "text/plain": [
       "Hobbyist\n",
       "Yes    71257\n",
       "No     17626\n",
       "Name: count, dtype: int64"
      ]
     },
     "execution_count": 36,
     "metadata": {},
     "output_type": "execute_result"
    }
   ],
   "source": [
    "res_df\n",
    "# res_df['Hobbyist'] entire Hobbyist column\n",
    "\n",
    "# to get total count\n",
    "res_df['Hobbyist'].value_counts()\n",
    "# value_counts() gives count of unique values\n",
    "# in descending order, so most frequest is at the top\n",
    "# ignores NA values by default\n",
    "\n",
    "\n",
    "# Hobbyist\n",
    "# Yes    71257\n",
    "# No     17626\n",
    "# Name: count, dtype: int64"
   ]
  },
  {
   "cell_type": "code",
   "execution_count": null,
   "id": "4d633dfa",
   "metadata": {},
   "outputs": [
    {
     "data": {
      "text/plain": [
       "Respondent                                                                1\n",
       "MainBranch                           I am a student who is learning to code\n",
       "Hobbyist                                                                Yes\n",
       "OpenSourcer                                                           Never\n",
       "OpenSource                The quality of OSS and closed source software ...\n",
       "Employment                           Not employed, and not looking for work\n",
       "Country                                                      United Kingdom\n",
       "Student                                                                  No\n",
       "EdLevel                                           Primary/elementary school\n",
       "UndergradMajor                                                          NaN\n",
       "EduOther                  Taught yourself a new language, framework, or ...\n",
       "OrgSize                                                                 NaN\n",
       "DevType                                                                 NaN\n",
       "YearsCode                                                                 4\n",
       "Age1stCode                                                               10\n",
       "YearsCodePro                                                            NaN\n",
       "CareerSat                                                               NaN\n",
       "JobSat                                                                  NaN\n",
       "MgrIdiot                                                                NaN\n",
       "MgrMoney                                                                NaN\n",
       "MgrWant                                                                 NaN\n",
       "JobSeek                                                                 NaN\n",
       "LastHireDate                                                            NaN\n",
       "LastInt                                                                 NaN\n",
       "FizzBuzz                                                                NaN\n",
       "JobFactors                                                              NaN\n",
       "ResumeUpdate                                                            NaN\n",
       "CurrencySymbol                                                          NaN\n",
       "CurrencyDesc                                                            NaN\n",
       "CompTotal                                                               NaN\n",
       "CompFreq                                                                NaN\n",
       "ConvertedComp                                                           NaN\n",
       "WorkWeekHrs                                                             NaN\n",
       "WorkPlan                                                                NaN\n",
       "WorkChallenge                                                           NaN\n",
       "WorkRemote                                                              NaN\n",
       "WorkLoc                                                                 NaN\n",
       "ImpSyn                                                                  NaN\n",
       "CodeRev                                                                 NaN\n",
       "CodeRevHrs                                                              NaN\n",
       "UnitTests                                                               NaN\n",
       "PurchaseHow                                                             NaN\n",
       "PurchaseWhat                                                            NaN\n",
       "LanguageWorkedWith                          HTML/CSS;Java;JavaScript;Python\n",
       "LanguageDesireNextYear      C;C++;C#;Go;HTML/CSS;Java;JavaScript;Python;SQL\n",
       "DatabaseWorkedWith                                                   SQLite\n",
       "DatabaseDesireNextYear                                                MySQL\n",
       "PlatformWorkedWith                                            MacOS;Windows\n",
       "PlatformDesireNextYear                              Android;Arduino;Windows\n",
       "WebFrameWorkedWith                                             Django;Flask\n",
       "WebFrameDesireNextYear                                         Flask;jQuery\n",
       "MiscTechWorkedWith                                                  Node.js\n",
       "MiscTechDesireNextYear                                              Node.js\n",
       "DevEnviron                                       IntelliJ;Notepad++;PyCharm\n",
       "OpSys                                                               Windows\n",
       "Containers                                          I do not use containers\n",
       "BlockchainOrg                                                           NaN\n",
       "BlockchainIs                                                            NaN\n",
       "BetterLife                                                              Yes\n",
       "ITperson                           Fortunately, someone else has that title\n",
       "OffOn                                                                   Yes\n",
       "SocialMedia                                                         Twitter\n",
       "Extraversion                                                         Online\n",
       "ScreenName                                                         Username\n",
       "SOVisit1st                                                             2017\n",
       "SOVisitFreq                                 A few times per month or weekly\n",
       "SOVisitTo                 Find answers to specific questions;Learn how t...\n",
       "SOFindAnswer                                             3-5 times per week\n",
       "SOTimeSaved                                  Stack Overflow was much faster\n",
       "SOHowMuchTime                                                 31-60 minutes\n",
       "SOAccount                                                                No\n",
       "SOPartFreq                                                              NaN\n",
       "SOJobs                    No, I didn't know that Stack Overflow had a jo...\n",
       "EntTeams                                No, and I don't know what those are\n",
       "SOComm                                                              Neutral\n",
       "WelcomeChange                       Just as welcome now as I felt last year\n",
       "SONewContent              Tech articles written by other developers;Indu...\n",
       "Age                                                                    14.0\n",
       "Gender                                                                  Man\n",
       "Trans                                                                    No\n",
       "Sexuality                                           Straight / Heterosexual\n",
       "Ethnicity                                                               NaN\n",
       "Dependents                                                               No\n",
       "SurveyLength                                          Appropriate in length\n",
       "SurveyEase                                       Neither easy nor difficult\n",
       "Name: 0, dtype: object"
      ]
     },
     "execution_count": 38,
     "metadata": {},
     "output_type": "execute_result"
    }
   ],
   "source": [
    "res_df.loc[0] # first row\n",
    "# column_name_1 value\n",
    "# column_name_2 value\n",
    "\n"
   ]
  },
  {
   "cell_type": "markdown",
   "id": "e14231fc",
   "metadata": {},
   "source": []
  },
  {
   "cell_type": "code",
   "execution_count": null,
   "id": "290060a7",
   "metadata": {},
   "outputs": [
    {
     "data": {
      "text/plain": [
       "0    Yes\n",
       "1     No\n",
       "2    Yes\n",
       "Name: Hobbyist, dtype: object"
      ]
     },
     "execution_count": 39,
     "metadata": {},
     "output_type": "execute_result"
    }
   ],
   "source": [
    "res_df.loc[[0,1,2], 'Hobbyist'] # retrieiving value of Hobbyist column \n",
    "# for first to third rows\n",
    "# 0    Yes\n",
    "# 1     No\n",
    "# 2    Yes\n",
    "# Name: Hobbyist, dtype: object"
   ]
  },
  {
   "cell_type": "code",
   "execution_count": null,
   "id": "b924ca79",
   "metadata": {},
   "outputs": [
    {
     "data": {
      "text/html": [
       "<div>\n",
       "<style scoped>\n",
       "    .dataframe tbody tr th:only-of-type {\n",
       "        vertical-align: middle;\n",
       "    }\n",
       "\n",
       "    .dataframe tbody tr th {\n",
       "        vertical-align: top;\n",
       "    }\n",
       "\n",
       "    .dataframe thead th {\n",
       "        text-align: right;\n",
       "    }\n",
       "</style>\n",
       "<table border=\"1\" class=\"dataframe\">\n",
       "  <thead>\n",
       "    <tr style=\"text-align: right;\">\n",
       "      <th></th>\n",
       "      <th>Respondent</th>\n",
       "      <th>MainBranch</th>\n",
       "      <th>Hobbyist</th>\n",
       "      <th>OpenSourcer</th>\n",
       "      <th>OpenSource</th>\n",
       "      <th>Employment</th>\n",
       "      <th>Country</th>\n",
       "      <th>Student</th>\n",
       "      <th>EdLevel</th>\n",
       "      <th>UndergradMajor</th>\n",
       "      <th>EduOther</th>\n",
       "      <th>OrgSize</th>\n",
       "      <th>DevType</th>\n",
       "      <th>YearsCode</th>\n",
       "      <th>Age1stCode</th>\n",
       "      <th>YearsCodePro</th>\n",
       "      <th>CareerSat</th>\n",
       "      <th>JobSat</th>\n",
       "      <th>MgrIdiot</th>\n",
       "      <th>MgrMoney</th>\n",
       "      <th>MgrWant</th>\n",
       "      <th>JobSeek</th>\n",
       "      <th>LastHireDate</th>\n",
       "      <th>LastInt</th>\n",
       "      <th>FizzBuzz</th>\n",
       "      <th>JobFactors</th>\n",
       "      <th>ResumeUpdate</th>\n",
       "      <th>CurrencySymbol</th>\n",
       "      <th>CurrencyDesc</th>\n",
       "      <th>CompTotal</th>\n",
       "      <th>CompFreq</th>\n",
       "      <th>ConvertedComp</th>\n",
       "      <th>WorkWeekHrs</th>\n",
       "      <th>WorkPlan</th>\n",
       "      <th>WorkChallenge</th>\n",
       "      <th>WorkRemote</th>\n",
       "      <th>WorkLoc</th>\n",
       "      <th>ImpSyn</th>\n",
       "      <th>CodeRev</th>\n",
       "      <th>CodeRevHrs</th>\n",
       "      <th>UnitTests</th>\n",
       "      <th>PurchaseHow</th>\n",
       "      <th>PurchaseWhat</th>\n",
       "      <th>LanguageWorkedWith</th>\n",
       "      <th>LanguageDesireNextYear</th>\n",
       "      <th>DatabaseWorkedWith</th>\n",
       "      <th>DatabaseDesireNextYear</th>\n",
       "      <th>PlatformWorkedWith</th>\n",
       "      <th>PlatformDesireNextYear</th>\n",
       "      <th>WebFrameWorkedWith</th>\n",
       "      <th>WebFrameDesireNextYear</th>\n",
       "      <th>MiscTechWorkedWith</th>\n",
       "      <th>MiscTechDesireNextYear</th>\n",
       "      <th>DevEnviron</th>\n",
       "      <th>OpSys</th>\n",
       "      <th>Containers</th>\n",
       "      <th>BlockchainOrg</th>\n",
       "      <th>BlockchainIs</th>\n",
       "      <th>BetterLife</th>\n",
       "      <th>ITperson</th>\n",
       "      <th>OffOn</th>\n",
       "      <th>SocialMedia</th>\n",
       "      <th>Extraversion</th>\n",
       "      <th>ScreenName</th>\n",
       "      <th>SOVisit1st</th>\n",
       "      <th>SOVisitFreq</th>\n",
       "      <th>SOVisitTo</th>\n",
       "      <th>SOFindAnswer</th>\n",
       "      <th>SOTimeSaved</th>\n",
       "      <th>SOHowMuchTime</th>\n",
       "      <th>SOAccount</th>\n",
       "      <th>SOPartFreq</th>\n",
       "      <th>SOJobs</th>\n",
       "      <th>EntTeams</th>\n",
       "      <th>SOComm</th>\n",
       "      <th>WelcomeChange</th>\n",
       "      <th>SONewContent</th>\n",
       "      <th>Age</th>\n",
       "      <th>Gender</th>\n",
       "      <th>Trans</th>\n",
       "      <th>Sexuality</th>\n",
       "      <th>Ethnicity</th>\n",
       "      <th>Dependents</th>\n",
       "      <th>SurveyLength</th>\n",
       "      <th>SurveyEase</th>\n",
       "    </tr>\n",
       "  </thead>\n",
       "  <tbody>\n",
       "    <tr>\n",
       "      <th>0</th>\n",
       "      <td>1</td>\n",
       "      <td>I am a student who is learning to code</td>\n",
       "      <td>Yes</td>\n",
       "      <td>Never</td>\n",
       "      <td>The quality of OSS and closed source software ...</td>\n",
       "      <td>Not employed, and not looking for work</td>\n",
       "      <td>United Kingdom</td>\n",
       "      <td>No</td>\n",
       "      <td>Primary/elementary school</td>\n",
       "      <td>NaN</td>\n",
       "      <td>Taught yourself a new language, framework, or ...</td>\n",
       "      <td>NaN</td>\n",
       "      <td>NaN</td>\n",
       "      <td>4</td>\n",
       "      <td>10</td>\n",
       "      <td>NaN</td>\n",
       "      <td>NaN</td>\n",
       "      <td>NaN</td>\n",
       "      <td>NaN</td>\n",
       "      <td>NaN</td>\n",
       "      <td>NaN</td>\n",
       "      <td>NaN</td>\n",
       "      <td>NaN</td>\n",
       "      <td>NaN</td>\n",
       "      <td>NaN</td>\n",
       "      <td>NaN</td>\n",
       "      <td>NaN</td>\n",
       "      <td>NaN</td>\n",
       "      <td>NaN</td>\n",
       "      <td>NaN</td>\n",
       "      <td>NaN</td>\n",
       "      <td>NaN</td>\n",
       "      <td>NaN</td>\n",
       "      <td>NaN</td>\n",
       "      <td>NaN</td>\n",
       "      <td>NaN</td>\n",
       "      <td>NaN</td>\n",
       "      <td>NaN</td>\n",
       "      <td>NaN</td>\n",
       "      <td>NaN</td>\n",
       "      <td>NaN</td>\n",
       "      <td>NaN</td>\n",
       "      <td>NaN</td>\n",
       "      <td>HTML/CSS;Java;JavaScript;Python</td>\n",
       "      <td>C;C++;C#;Go;HTML/CSS;Java;JavaScript;Python;SQL</td>\n",
       "      <td>SQLite</td>\n",
       "      <td>MySQL</td>\n",
       "      <td>MacOS;Windows</td>\n",
       "      <td>Android;Arduino;Windows</td>\n",
       "      <td>Django;Flask</td>\n",
       "      <td>Flask;jQuery</td>\n",
       "      <td>Node.js</td>\n",
       "      <td>Node.js</td>\n",
       "      <td>IntelliJ;Notepad++;PyCharm</td>\n",
       "      <td>Windows</td>\n",
       "      <td>I do not use containers</td>\n",
       "      <td>NaN</td>\n",
       "      <td>NaN</td>\n",
       "      <td>Yes</td>\n",
       "      <td>Fortunately, someone else has that title</td>\n",
       "      <td>Yes</td>\n",
       "      <td>Twitter</td>\n",
       "      <td>Online</td>\n",
       "      <td>Username</td>\n",
       "      <td>2017</td>\n",
       "      <td>A few times per month or weekly</td>\n",
       "      <td>Find answers to specific questions;Learn how t...</td>\n",
       "      <td>3-5 times per week</td>\n",
       "      <td>Stack Overflow was much faster</td>\n",
       "      <td>31-60 minutes</td>\n",
       "      <td>No</td>\n",
       "      <td>NaN</td>\n",
       "      <td>No, I didn't know that Stack Overflow had a jo...</td>\n",
       "      <td>No, and I don't know what those are</td>\n",
       "      <td>Neutral</td>\n",
       "      <td>Just as welcome now as I felt last year</td>\n",
       "      <td>Tech articles written by other developers;Indu...</td>\n",
       "      <td>14.0</td>\n",
       "      <td>Man</td>\n",
       "      <td>No</td>\n",
       "      <td>Straight / Heterosexual</td>\n",
       "      <td>NaN</td>\n",
       "      <td>No</td>\n",
       "      <td>Appropriate in length</td>\n",
       "      <td>Neither easy nor difficult</td>\n",
       "    </tr>\n",
       "    <tr>\n",
       "      <th>1</th>\n",
       "      <td>2</td>\n",
       "      <td>I am a student who is learning to code</td>\n",
       "      <td>No</td>\n",
       "      <td>Less than once per year</td>\n",
       "      <td>The quality of OSS and closed source software ...</td>\n",
       "      <td>Not employed, but looking for work</td>\n",
       "      <td>Bosnia and Herzegovina</td>\n",
       "      <td>Yes, full-time</td>\n",
       "      <td>Secondary school (e.g. American high school, G...</td>\n",
       "      <td>NaN</td>\n",
       "      <td>Taken an online course in programming or softw...</td>\n",
       "      <td>NaN</td>\n",
       "      <td>Developer, desktop or enterprise applications;...</td>\n",
       "      <td>NaN</td>\n",
       "      <td>17</td>\n",
       "      <td>NaN</td>\n",
       "      <td>NaN</td>\n",
       "      <td>NaN</td>\n",
       "      <td>NaN</td>\n",
       "      <td>NaN</td>\n",
       "      <td>NaN</td>\n",
       "      <td>I am actively looking for a job</td>\n",
       "      <td>I've never had a job</td>\n",
       "      <td>NaN</td>\n",
       "      <td>NaN</td>\n",
       "      <td>Financial performance or funding status of the...</td>\n",
       "      <td>Something else changed (education, award, medi...</td>\n",
       "      <td>NaN</td>\n",
       "      <td>NaN</td>\n",
       "      <td>NaN</td>\n",
       "      <td>NaN</td>\n",
       "      <td>NaN</td>\n",
       "      <td>NaN</td>\n",
       "      <td>NaN</td>\n",
       "      <td>NaN</td>\n",
       "      <td>NaN</td>\n",
       "      <td>NaN</td>\n",
       "      <td>NaN</td>\n",
       "      <td>NaN</td>\n",
       "      <td>NaN</td>\n",
       "      <td>NaN</td>\n",
       "      <td>NaN</td>\n",
       "      <td>NaN</td>\n",
       "      <td>C++;HTML/CSS;Python</td>\n",
       "      <td>C++;HTML/CSS;JavaScript;SQL</td>\n",
       "      <td>NaN</td>\n",
       "      <td>MySQL</td>\n",
       "      <td>Windows</td>\n",
       "      <td>Windows</td>\n",
       "      <td>Django</td>\n",
       "      <td>Django</td>\n",
       "      <td>NaN</td>\n",
       "      <td>NaN</td>\n",
       "      <td>Atom;PyCharm</td>\n",
       "      <td>Windows</td>\n",
       "      <td>I do not use containers</td>\n",
       "      <td>NaN</td>\n",
       "      <td>Useful across many domains and could change ma...</td>\n",
       "      <td>Yes</td>\n",
       "      <td>Yes</td>\n",
       "      <td>Yes</td>\n",
       "      <td>Instagram</td>\n",
       "      <td>Online</td>\n",
       "      <td>Username</td>\n",
       "      <td>2017</td>\n",
       "      <td>Daily or almost daily</td>\n",
       "      <td>Find answers to specific questions;Learn how t...</td>\n",
       "      <td>3-5 times per week</td>\n",
       "      <td>Stack Overflow was much faster</td>\n",
       "      <td>11-30 minutes</td>\n",
       "      <td>Yes</td>\n",
       "      <td>A few times per month or weekly</td>\n",
       "      <td>No, I knew that Stack Overflow had a job board...</td>\n",
       "      <td>No, and I don't know what those are</td>\n",
       "      <td>Yes, somewhat</td>\n",
       "      <td>Just as welcome now as I felt last year</td>\n",
       "      <td>Tech articles written by other developers;Indu...</td>\n",
       "      <td>19.0</td>\n",
       "      <td>Man</td>\n",
       "      <td>No</td>\n",
       "      <td>Straight / Heterosexual</td>\n",
       "      <td>NaN</td>\n",
       "      <td>No</td>\n",
       "      <td>Appropriate in length</td>\n",
       "      <td>Neither easy nor difficult</td>\n",
       "    </tr>\n",
       "  </tbody>\n",
       "</table>\n",
       "</div>"
      ],
      "text/plain": [
       "   Respondent                              MainBranch Hobbyist  \\\n",
       "0           1  I am a student who is learning to code      Yes   \n",
       "1           2  I am a student who is learning to code       No   \n",
       "\n",
       "               OpenSourcer                                         OpenSource  \\\n",
       "0                    Never  The quality of OSS and closed source software ...   \n",
       "1  Less than once per year  The quality of OSS and closed source software ...   \n",
       "\n",
       "                               Employment                 Country  \\\n",
       "0  Not employed, and not looking for work          United Kingdom   \n",
       "1      Not employed, but looking for work  Bosnia and Herzegovina   \n",
       "\n",
       "          Student                                            EdLevel  \\\n",
       "0              No                          Primary/elementary school   \n",
       "1  Yes, full-time  Secondary school (e.g. American high school, G...   \n",
       "\n",
       "  UndergradMajor                                           EduOther OrgSize  \\\n",
       "0            NaN  Taught yourself a new language, framework, or ...     NaN   \n",
       "1            NaN  Taken an online course in programming or softw...     NaN   \n",
       "\n",
       "                                             DevType YearsCode Age1stCode  \\\n",
       "0                                                NaN         4         10   \n",
       "1  Developer, desktop or enterprise applications;...       NaN         17   \n",
       "\n",
       "  YearsCodePro CareerSat JobSat MgrIdiot MgrMoney MgrWant  \\\n",
       "0          NaN       NaN    NaN      NaN      NaN     NaN   \n",
       "1          NaN       NaN    NaN      NaN      NaN     NaN   \n",
       "\n",
       "                           JobSeek          LastHireDate LastInt FizzBuzz  \\\n",
       "0                              NaN                   NaN     NaN      NaN   \n",
       "1  I am actively looking for a job  I've never had a job     NaN      NaN   \n",
       "\n",
       "                                          JobFactors  \\\n",
       "0                                                NaN   \n",
       "1  Financial performance or funding status of the...   \n",
       "\n",
       "                                        ResumeUpdate CurrencySymbol  \\\n",
       "0                                                NaN            NaN   \n",
       "1  Something else changed (education, award, medi...            NaN   \n",
       "\n",
       "  CurrencyDesc  CompTotal CompFreq  ConvertedComp  WorkWeekHrs WorkPlan  \\\n",
       "0          NaN        NaN      NaN            NaN          NaN      NaN   \n",
       "1          NaN        NaN      NaN            NaN          NaN      NaN   \n",
       "\n",
       "  WorkChallenge WorkRemote WorkLoc ImpSyn CodeRev  CodeRevHrs UnitTests  \\\n",
       "0           NaN        NaN     NaN    NaN     NaN         NaN       NaN   \n",
       "1           NaN        NaN     NaN    NaN     NaN         NaN       NaN   \n",
       "\n",
       "  PurchaseHow PurchaseWhat               LanguageWorkedWith  \\\n",
       "0         NaN          NaN  HTML/CSS;Java;JavaScript;Python   \n",
       "1         NaN          NaN              C++;HTML/CSS;Python   \n",
       "\n",
       "                            LanguageDesireNextYear DatabaseWorkedWith  \\\n",
       "0  C;C++;C#;Go;HTML/CSS;Java;JavaScript;Python;SQL             SQLite   \n",
       "1                      C++;HTML/CSS;JavaScript;SQL                NaN   \n",
       "\n",
       "  DatabaseDesireNextYear PlatformWorkedWith   PlatformDesireNextYear  \\\n",
       "0                  MySQL      MacOS;Windows  Android;Arduino;Windows   \n",
       "1                  MySQL            Windows                  Windows   \n",
       "\n",
       "  WebFrameWorkedWith WebFrameDesireNextYear MiscTechWorkedWith  \\\n",
       "0       Django;Flask           Flask;jQuery            Node.js   \n",
       "1             Django                 Django                NaN   \n",
       "\n",
       "  MiscTechDesireNextYear                  DevEnviron    OpSys  \\\n",
       "0                Node.js  IntelliJ;Notepad++;PyCharm  Windows   \n",
       "1                    NaN                Atom;PyCharm  Windows   \n",
       "\n",
       "                Containers BlockchainOrg  \\\n",
       "0  I do not use containers           NaN   \n",
       "1  I do not use containers           NaN   \n",
       "\n",
       "                                        BlockchainIs BetterLife  \\\n",
       "0                                                NaN        Yes   \n",
       "1  Useful across many domains and could change ma...        Yes   \n",
       "\n",
       "                                   ITperson OffOn SocialMedia Extraversion  \\\n",
       "0  Fortunately, someone else has that title   Yes     Twitter       Online   \n",
       "1                                       Yes   Yes   Instagram       Online   \n",
       "\n",
       "  ScreenName SOVisit1st                      SOVisitFreq  \\\n",
       "0   Username       2017  A few times per month or weekly   \n",
       "1   Username       2017            Daily or almost daily   \n",
       "\n",
       "                                           SOVisitTo        SOFindAnswer  \\\n",
       "0  Find answers to specific questions;Learn how t...  3-5 times per week   \n",
       "1  Find answers to specific questions;Learn how t...  3-5 times per week   \n",
       "\n",
       "                      SOTimeSaved  SOHowMuchTime SOAccount  \\\n",
       "0  Stack Overflow was much faster  31-60 minutes        No   \n",
       "1  Stack Overflow was much faster  11-30 minutes       Yes   \n",
       "\n",
       "                        SOPartFreq  \\\n",
       "0                              NaN   \n",
       "1  A few times per month or weekly   \n",
       "\n",
       "                                              SOJobs  \\\n",
       "0  No, I didn't know that Stack Overflow had a jo...   \n",
       "1  No, I knew that Stack Overflow had a job board...   \n",
       "\n",
       "                              EntTeams         SOComm  \\\n",
       "0  No, and I don't know what those are        Neutral   \n",
       "1  No, and I don't know what those are  Yes, somewhat   \n",
       "\n",
       "                             WelcomeChange  \\\n",
       "0  Just as welcome now as I felt last year   \n",
       "1  Just as welcome now as I felt last year   \n",
       "\n",
       "                                        SONewContent   Age Gender Trans  \\\n",
       "0  Tech articles written by other developers;Indu...  14.0    Man    No   \n",
       "1  Tech articles written by other developers;Indu...  19.0    Man    No   \n",
       "\n",
       "                 Sexuality Ethnicity Dependents           SurveyLength  \\\n",
       "0  Straight / Heterosexual       NaN         No  Appropriate in length   \n",
       "1  Straight / Heterosexual       NaN         No  Appropriate in length   \n",
       "\n",
       "                   SurveyEase  \n",
       "0  Neither easy nor difficult  \n",
       "1  Neither easy nor difficult  "
      ]
     },
     "execution_count": 41,
     "metadata": {},
     "output_type": "execute_result"
    }
   ],
   "source": [
    "# slicing:\n",
    "# res_df.iloc[0:2] # 0, 1 row; exclusive end\n",
    "res_df.loc[0:2] # 0,1 and 2 ; inclusive"
   ]
  },
  {
   "cell_type": "code",
   "execution_count": null,
   "id": "d7e577e8",
   "metadata": {},
   "outputs": [
    {
     "data": {
      "text/plain": [
       "0    Yes\n",
       "1     No\n",
       "2    Yes\n",
       "Name: Hobbyist, dtype: object"
      ]
     },
     "execution_count": 51,
     "metadata": {},
     "output_type": "execute_result"
    }
   ],
   "source": [
    "res_df.loc[0:2, 'Hobbyist']"
   ]
  },
  {
   "cell_type": "code",
   "execution_count": null,
   "id": "c949a885",
   "metadata": {},
   "outputs": [
    {
     "data": {
      "text/html": [
       "<div>\n",
       "<style scoped>\n",
       "    .dataframe tbody tr th:only-of-type {\n",
       "        vertical-align: middle;\n",
       "    }\n",
       "\n",
       "    .dataframe tbody tr th {\n",
       "        vertical-align: top;\n",
       "    }\n",
       "\n",
       "    .dataframe thead th {\n",
       "        text-align: right;\n",
       "    }\n",
       "</style>\n",
       "<table border=\"1\" class=\"dataframe\">\n",
       "  <thead>\n",
       "    <tr style=\"text-align: right;\">\n",
       "      <th></th>\n",
       "      <th>Hobbyist</th>\n",
       "      <th>OpenSourcer</th>\n",
       "      <th>OpenSource</th>\n",
       "      <th>Employment</th>\n",
       "    </tr>\n",
       "  </thead>\n",
       "  <tbody>\n",
       "    <tr>\n",
       "      <th>0</th>\n",
       "      <td>Yes</td>\n",
       "      <td>Never</td>\n",
       "      <td>The quality of OSS and closed source software ...</td>\n",
       "      <td>Not employed, and not looking for work</td>\n",
       "    </tr>\n",
       "    <tr>\n",
       "      <th>1</th>\n",
       "      <td>No</td>\n",
       "      <td>Less than once per year</td>\n",
       "      <td>The quality of OSS and closed source software ...</td>\n",
       "      <td>Not employed, but looking for work</td>\n",
       "    </tr>\n",
       "    <tr>\n",
       "      <th>2</th>\n",
       "      <td>Yes</td>\n",
       "      <td>Never</td>\n",
       "      <td>The quality of OSS and closed source software ...</td>\n",
       "      <td>Employed full-time</td>\n",
       "    </tr>\n",
       "  </tbody>\n",
       "</table>\n",
       "</div>"
      ],
      "text/plain": [
       "  Hobbyist              OpenSourcer  \\\n",
       "0      Yes                    Never   \n",
       "1       No  Less than once per year   \n",
       "2      Yes                    Never   \n",
       "\n",
       "                                          OpenSource  \\\n",
       "0  The quality of OSS and closed source software ...   \n",
       "1  The quality of OSS and closed source software ...   \n",
       "2  The quality of OSS and closed source software ...   \n",
       "\n",
       "                               Employment  \n",
       "0  Not employed, and not looking for work  \n",
       "1      Not employed, but looking for work  \n",
       "2                      Employed full-time  "
      ]
     },
     "execution_count": 52,
     "metadata": {},
     "output_type": "execute_result"
    }
   ],
   "source": [
    "res_df.loc[0:2, 'Hobbyist':'Employment']"
   ]
  },
  {
   "cell_type": "code",
   "execution_count": null,
   "id": "11225b26",
   "metadata": {},
   "outputs": [],
   "source": []
  }
 ],
 "metadata": {
  "kernelspec": {
   "display_name": "Python 3",
   "language": "python",
   "name": "python3"
  },
  "language_info": {
   "codemirror_mode": {
    "name": "ipython",
    "version": 3
   },
   "file_extension": ".py",
   "mimetype": "text/x-python",
   "name": "python",
   "nbconvert_exporter": "python",
   "pygments_lexer": "ipython3",
   "version": "3.10.12"
  }
 },
 "nbformat": 4,
 "nbformat_minor": 5
}
